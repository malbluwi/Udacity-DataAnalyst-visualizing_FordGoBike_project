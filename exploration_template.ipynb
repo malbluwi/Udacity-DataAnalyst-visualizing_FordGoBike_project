{
 "cells": [
  {
   "cell_type": "markdown",
   "metadata": {},
   "source": [
    "# Ford GoBike Data Visualization\n",
    "\n",
    "## by Mohammed Albluwi\n"
   ]
  },
  {
   "cell_type": "markdown",
   "metadata": {},
   "source": [
    "## Contents\n",
    "- [Gathering data](#gather)\n",
    "- [Accessing data](#access)\n",
    "- [Quality issues](#q_issues)\n",
    "- [Tidness issues](#t_issues)\n",
    "- [Cleaning data](#clean)\n",
    "- [Quality clean Tasks](#q_clean)\n",
    "- [Tidness clean Tasks](#t_clean)\n",
    "- [Storing the data](#s_01)\n",
    "- [The features of interest](#features_01)\n",
    "- [Univariate Exploration](#u_exploration)\n",
    "- [Bivariate Exploration](#b_exploration)\n",
    "- [Univariate Exploration](#m_exploration)"
   ]
  },
  {
   "cell_type": "markdown",
   "metadata": {},
   "source": [
    "<a id='gather'></a>\n",
    "## Gather"
   ]
  },
  {
   "cell_type": "code",
   "execution_count": 3,
   "metadata": {},
   "outputs": [],
   "source": [
    "import pandas as pd\n",
    "import numpy as np\n",
    "import seaborn as sb\n",
    "#import wptools\n",
    "#import tweepy\n",
    "import os\n",
    "import re\n",
    "import requests\n",
    "from PIL import Image\n",
    "from io import BytesIO\n",
    "#from tweepy import OAuthHandler\n",
    "import json\n",
    "#from timeit import default_timer as timer\n",
    "\n",
    "import matplotlib.pyplot as plt\n",
    "import seaborn as sns\n",
    "\n",
    "%matplotlib inline"
   ]
  },
  {
   "cell_type": "code",
   "execution_count": 4,
   "metadata": {},
   "outputs": [],
   "source": [
    "# read the file\n",
    "#df_airline=pd.read_csv(\"airline_delay_causes.csv\")\n",
    "#df_goBike=pd.read_csv(\"FordGoBike_2017_2019.csv\")\n",
    "#df_goBike.head(7)"
   ]
  },
  {
   "cell_type": "code",
   "execution_count": 6,
   "metadata": {},
   "outputs": [],
   "source": [
    "# load in the dataset into a pandas dataframe\n",
    "#Read CSV files for years 2006,2007 and 2008 into individual dataframes\n",
    "df_2017=pd.read_csv('2017-fordgobike-tripdata.csv')\n",
    "df_2018_01=pd.read_csv('201801-fordgobike-tripdata.csv')\n",
    "df_2018_02=pd.read_csv('201802-fordgobike-tripdata.csv')\n",
    "df_2018_03=pd.read_csv('201803-fordgobike-tripdata.csv')\n",
    "df_2018_04=pd.read_csv('201804-fordgobike-tripdata.csv')\n",
    "df_2018_05=pd.read_csv('201805-fordgobike-tripdata.csv')\n",
    "df_2018_06=pd.read_csv('201806-fordgobike-tripdata.csv')\n",
    "df_2018_07=pd.read_csv('201807-fordgobike-tripdata.csv')\n",
    "df_2018_08=pd.read_csv('201808-fordgobike-tripdata.csv')\n",
    "df_2018_09=pd.read_csv('201809-fordgobike-tripdata.csv')\n",
    "df_2019_02=pd.read_csv('201902-fordgobike-tripdata.csv')\n",
    "#Append all three dataframes and save into master df\n",
    "df_goBike = df_2017.append([df_2017, df_2018_01, df_2018_02, \n",
    "                            df_2018_03, df_2018_04, df_2018_05,\n",
    "                            df_2018_06, df_2018_07, df_2018_08,\n",
    "                            df_2018_09, df_2019_02 ])"
   ]
  },
  {
   "cell_type": "code",
   "execution_count": 7,
   "metadata": {},
   "outputs": [
    {
     "data": {
      "text/html": [
       "<div>\n",
       "<style scoped>\n",
       "    .dataframe tbody tr th:only-of-type {\n",
       "        vertical-align: middle;\n",
       "    }\n",
       "\n",
       "    .dataframe tbody tr th {\n",
       "        vertical-align: top;\n",
       "    }\n",
       "\n",
       "    .dataframe thead th {\n",
       "        text-align: right;\n",
       "    }\n",
       "</style>\n",
       "<table border=\"1\" class=\"dataframe\">\n",
       "  <thead>\n",
       "    <tr style=\"text-align: right;\">\n",
       "      <th></th>\n",
       "      <th>duration_sec</th>\n",
       "      <th>start_time</th>\n",
       "      <th>end_time</th>\n",
       "      <th>start_station_id</th>\n",
       "      <th>start_station_name</th>\n",
       "      <th>start_station_latitude</th>\n",
       "      <th>start_station_longitude</th>\n",
       "      <th>end_station_id</th>\n",
       "      <th>end_station_name</th>\n",
       "      <th>end_station_latitude</th>\n",
       "      <th>end_station_longitude</th>\n",
       "      <th>bike_id</th>\n",
       "      <th>user_type</th>\n",
       "      <th>member_birth_year</th>\n",
       "      <th>member_gender</th>\n",
       "      <th>bike_share_for_all_trip</th>\n",
       "    </tr>\n",
       "  </thead>\n",
       "  <tbody>\n",
       "    <tr>\n",
       "      <th>183405</th>\n",
       "      <td>111</td>\n",
       "      <td>2019-02-01 00:14:49.8740</td>\n",
       "      <td>2019-02-01 00:16:41.3010</td>\n",
       "      <td>324.0</td>\n",
       "      <td>Union Square (Powell St at Post St)</td>\n",
       "      <td>37.788300</td>\n",
       "      <td>-122.408531</td>\n",
       "      <td>19.0</td>\n",
       "      <td>Post St at Kearny St</td>\n",
       "      <td>37.788975</td>\n",
       "      <td>-122.403452</td>\n",
       "      <td>4832</td>\n",
       "      <td>Subscriber</td>\n",
       "      <td>1984.0</td>\n",
       "      <td>Male</td>\n",
       "      <td>No</td>\n",
       "    </tr>\n",
       "    <tr>\n",
       "      <th>183406</th>\n",
       "      <td>706</td>\n",
       "      <td>2019-02-01 00:04:40.6160</td>\n",
       "      <td>2019-02-01 00:16:27.0800</td>\n",
       "      <td>138.0</td>\n",
       "      <td>Jersey St at Church St</td>\n",
       "      <td>37.750900</td>\n",
       "      <td>-122.427411</td>\n",
       "      <td>78.0</td>\n",
       "      <td>Folsom St at 9th St</td>\n",
       "      <td>37.773717</td>\n",
       "      <td>-122.411647</td>\n",
       "      <td>5017</td>\n",
       "      <td>Subscriber</td>\n",
       "      <td>1988.0</td>\n",
       "      <td>Male</td>\n",
       "      <td>No</td>\n",
       "    </tr>\n",
       "    <tr>\n",
       "      <th>183407</th>\n",
       "      <td>480</td>\n",
       "      <td>2019-02-01 00:04:49.7240</td>\n",
       "      <td>2019-02-01 00:12:50.0340</td>\n",
       "      <td>27.0</td>\n",
       "      <td>Beale St at Harrison St</td>\n",
       "      <td>37.788059</td>\n",
       "      <td>-122.391865</td>\n",
       "      <td>324.0</td>\n",
       "      <td>Union Square (Powell St at Post St)</td>\n",
       "      <td>37.788300</td>\n",
       "      <td>-122.408531</td>\n",
       "      <td>4832</td>\n",
       "      <td>Subscriber</td>\n",
       "      <td>1996.0</td>\n",
       "      <td>Male</td>\n",
       "      <td>No</td>\n",
       "    </tr>\n",
       "    <tr>\n",
       "      <th>183408</th>\n",
       "      <td>313</td>\n",
       "      <td>2019-02-01 00:05:34.7440</td>\n",
       "      <td>2019-02-01 00:10:48.5020</td>\n",
       "      <td>21.0</td>\n",
       "      <td>Montgomery St BART Station (Market St at 2nd St)</td>\n",
       "      <td>37.789625</td>\n",
       "      <td>-122.400811</td>\n",
       "      <td>66.0</td>\n",
       "      <td>3rd St at Townsend St</td>\n",
       "      <td>37.778742</td>\n",
       "      <td>-122.392741</td>\n",
       "      <td>4960</td>\n",
       "      <td>Subscriber</td>\n",
       "      <td>1984.0</td>\n",
       "      <td>Male</td>\n",
       "      <td>No</td>\n",
       "    </tr>\n",
       "    <tr>\n",
       "      <th>183409</th>\n",
       "      <td>141</td>\n",
       "      <td>2019-02-01 00:06:05.5490</td>\n",
       "      <td>2019-02-01 00:08:27.2200</td>\n",
       "      <td>278.0</td>\n",
       "      <td>The Alameda at Bush St</td>\n",
       "      <td>37.331932</td>\n",
       "      <td>-121.904888</td>\n",
       "      <td>277.0</td>\n",
       "      <td>Morrison Ave at Julian St</td>\n",
       "      <td>37.333658</td>\n",
       "      <td>-121.908586</td>\n",
       "      <td>3824</td>\n",
       "      <td>Subscriber</td>\n",
       "      <td>1990.0</td>\n",
       "      <td>Male</td>\n",
       "      <td>Yes</td>\n",
       "    </tr>\n",
       "    <tr>\n",
       "      <th>183410</th>\n",
       "      <td>139</td>\n",
       "      <td>2019-02-01 00:05:34.3600</td>\n",
       "      <td>2019-02-01 00:07:54.2870</td>\n",
       "      <td>220.0</td>\n",
       "      <td>San Pablo Ave at MLK Jr Way</td>\n",
       "      <td>37.811351</td>\n",
       "      <td>-122.273422</td>\n",
       "      <td>216.0</td>\n",
       "      <td>San Pablo Ave at 27th St</td>\n",
       "      <td>37.817827</td>\n",
       "      <td>-122.275698</td>\n",
       "      <td>5095</td>\n",
       "      <td>Subscriber</td>\n",
       "      <td>1988.0</td>\n",
       "      <td>Male</td>\n",
       "      <td>No</td>\n",
       "    </tr>\n",
       "    <tr>\n",
       "      <th>183411</th>\n",
       "      <td>271</td>\n",
       "      <td>2019-02-01 00:00:20.6360</td>\n",
       "      <td>2019-02-01 00:04:52.0580</td>\n",
       "      <td>24.0</td>\n",
       "      <td>Spear St at Folsom St</td>\n",
       "      <td>37.789677</td>\n",
       "      <td>-122.390428</td>\n",
       "      <td>37.0</td>\n",
       "      <td>2nd St at Folsom St</td>\n",
       "      <td>37.785000</td>\n",
       "      <td>-122.395936</td>\n",
       "      <td>1057</td>\n",
       "      <td>Subscriber</td>\n",
       "      <td>1989.0</td>\n",
       "      <td>Male</td>\n",
       "      <td>No</td>\n",
       "    </tr>\n",
       "  </tbody>\n",
       "</table>\n",
       "</div>"
      ],
      "text/plain": [
       "        duration_sec                start_time                  end_time  \\\n",
       "183405           111  2019-02-01 00:14:49.8740  2019-02-01 00:16:41.3010   \n",
       "183406           706  2019-02-01 00:04:40.6160  2019-02-01 00:16:27.0800   \n",
       "183407           480  2019-02-01 00:04:49.7240  2019-02-01 00:12:50.0340   \n",
       "183408           313  2019-02-01 00:05:34.7440  2019-02-01 00:10:48.5020   \n",
       "183409           141  2019-02-01 00:06:05.5490  2019-02-01 00:08:27.2200   \n",
       "183410           139  2019-02-01 00:05:34.3600  2019-02-01 00:07:54.2870   \n",
       "183411           271  2019-02-01 00:00:20.6360  2019-02-01 00:04:52.0580   \n",
       "\n",
       "        start_station_id                                start_station_name  \\\n",
       "183405             324.0               Union Square (Powell St at Post St)   \n",
       "183406             138.0                            Jersey St at Church St   \n",
       "183407              27.0                           Beale St at Harrison St   \n",
       "183408              21.0  Montgomery St BART Station (Market St at 2nd St)   \n",
       "183409             278.0                            The Alameda at Bush St   \n",
       "183410             220.0                       San Pablo Ave at MLK Jr Way   \n",
       "183411              24.0                             Spear St at Folsom St   \n",
       "\n",
       "        start_station_latitude  start_station_longitude  end_station_id  \\\n",
       "183405               37.788300              -122.408531            19.0   \n",
       "183406               37.750900              -122.427411            78.0   \n",
       "183407               37.788059              -122.391865           324.0   \n",
       "183408               37.789625              -122.400811            66.0   \n",
       "183409               37.331932              -121.904888           277.0   \n",
       "183410               37.811351              -122.273422           216.0   \n",
       "183411               37.789677              -122.390428            37.0   \n",
       "\n",
       "                           end_station_name  end_station_latitude  \\\n",
       "183405                 Post St at Kearny St             37.788975   \n",
       "183406                  Folsom St at 9th St             37.773717   \n",
       "183407  Union Square (Powell St at Post St)             37.788300   \n",
       "183408                3rd St at Townsend St             37.778742   \n",
       "183409            Morrison Ave at Julian St             37.333658   \n",
       "183410             San Pablo Ave at 27th St             37.817827   \n",
       "183411                  2nd St at Folsom St             37.785000   \n",
       "\n",
       "        end_station_longitude  bike_id   user_type  member_birth_year  \\\n",
       "183405            -122.403452     4832  Subscriber             1984.0   \n",
       "183406            -122.411647     5017  Subscriber             1988.0   \n",
       "183407            -122.408531     4832  Subscriber             1996.0   \n",
       "183408            -122.392741     4960  Subscriber             1984.0   \n",
       "183409            -121.908586     3824  Subscriber             1990.0   \n",
       "183410            -122.275698     5095  Subscriber             1988.0   \n",
       "183411            -122.395936     1057  Subscriber             1989.0   \n",
       "\n",
       "       member_gender bike_share_for_all_trip  \n",
       "183405          Male                      No  \n",
       "183406          Male                      No  \n",
       "183407          Male                      No  \n",
       "183408          Male                      No  \n",
       "183409          Male                     Yes  \n",
       "183410          Male                      No  \n",
       "183411          Male                      No  "
      ]
     },
     "execution_count": 7,
     "metadata": {},
     "output_type": "execute_result"
    }
   ],
   "source": [
    "df_goBike.tail(7)"
   ]
  },
  {
   "cell_type": "code",
   "execution_count": 8,
   "metadata": {},
   "outputs": [
    {
     "data": {
      "text/plain": [
       "(2619577, 16)"
      ]
     },
     "execution_count": 8,
     "metadata": {},
     "output_type": "execute_result"
    }
   ],
   "source": [
    "#let's check out the shape\n",
    "df_goBike.shape"
   ]
  },
  {
   "cell_type": "code",
   "execution_count": 9,
   "metadata": {},
   "outputs": [
    {
     "name": "stdout",
     "output_type": "stream",
     "text": [
      "<class 'pandas.core.frame.DataFrame'>\n",
      "Int64Index: 2619577 entries, 0 to 183411\n",
      "Data columns (total 16 columns):\n",
      " #   Column                   Dtype  \n",
      "---  ------                   -----  \n",
      " 0   duration_sec             int64  \n",
      " 1   start_time               object \n",
      " 2   end_time                 object \n",
      " 3   start_station_id         float64\n",
      " 4   start_station_name       object \n",
      " 5   start_station_latitude   float64\n",
      " 6   start_station_longitude  float64\n",
      " 7   end_station_id           float64\n",
      " 8   end_station_name         object \n",
      " 9   end_station_latitude     float64\n",
      " 10  end_station_longitude    float64\n",
      " 11  bike_id                  int64  \n",
      " 12  user_type                object \n",
      " 13  member_birth_year        float64\n",
      " 14  member_gender            object \n",
      " 15  bike_share_for_all_trip  object \n",
      "dtypes: float64(7), int64(2), object(7)\n",
      "memory usage: 339.8+ MB\n"
     ]
    }
   ],
   "source": [
    "# check out the structure of DF\n",
    "df_goBike.info()"
   ]
  },
  {
   "cell_type": "code",
   "execution_count": 10,
   "metadata": {},
   "outputs": [
    {
     "data": {
      "text/plain": [
       "16"
      ]
     },
     "execution_count": 10,
     "metadata": {},
     "output_type": "execute_result"
    }
   ],
   "source": [
    "# how many columns we have\n",
    "len(df_goBike.columns)"
   ]
  },
  {
   "cell_type": "code",
   "execution_count": 11,
   "metadata": {},
   "outputs": [
    {
     "data": {
      "text/html": [
       "<div>\n",
       "<style scoped>\n",
       "    .dataframe tbody tr th:only-of-type {\n",
       "        vertical-align: middle;\n",
       "    }\n",
       "\n",
       "    .dataframe tbody tr th {\n",
       "        vertical-align: top;\n",
       "    }\n",
       "\n",
       "    .dataframe thead th {\n",
       "        text-align: right;\n",
       "    }\n",
       "</style>\n",
       "<table border=\"1\" class=\"dataframe\">\n",
       "  <thead>\n",
       "    <tr style=\"text-align: right;\">\n",
       "      <th></th>\n",
       "      <th>duration_sec</th>\n",
       "      <th>start_station_id</th>\n",
       "      <th>start_station_latitude</th>\n",
       "      <th>start_station_longitude</th>\n",
       "      <th>end_station_id</th>\n",
       "      <th>end_station_latitude</th>\n",
       "      <th>end_station_longitude</th>\n",
       "      <th>bike_id</th>\n",
       "      <th>member_birth_year</th>\n",
       "    </tr>\n",
       "  </thead>\n",
       "  <tbody>\n",
       "    <tr>\n",
       "      <th>count</th>\n",
       "      <td>2.619577e+06</td>\n",
       "      <td>2.609641e+06</td>\n",
       "      <td>2.619577e+06</td>\n",
       "      <td>2.619577e+06</td>\n",
       "      <td>2.609641e+06</td>\n",
       "      <td>2.619577e+06</td>\n",
       "      <td>2.619577e+06</td>\n",
       "      <td>2.619577e+06</td>\n",
       "      <td>2.386275e+06</td>\n",
       "    </tr>\n",
       "    <tr>\n",
       "      <th>mean</th>\n",
       "      <td>9.574587e+02</td>\n",
       "      <td>1.097593e+02</td>\n",
       "      <td>3.776918e+01</td>\n",
       "      <td>-1.223553e+02</td>\n",
       "      <td>1.076609e+02</td>\n",
       "      <td>3.776933e+01</td>\n",
       "      <td>-1.223547e+02</td>\n",
       "      <td>2.161620e+03</td>\n",
       "      <td>1.982047e+03</td>\n",
       "    </tr>\n",
       "    <tr>\n",
       "      <th>std</th>\n",
       "      <td>2.885250e+03</td>\n",
       "      <td>9.537702e+01</td>\n",
       "      <td>9.779569e-02</td>\n",
       "      <td>1.487854e-01</td>\n",
       "      <td>9.504489e+01</td>\n",
       "      <td>9.769756e-02</td>\n",
       "      <td>1.484044e-01</td>\n",
       "      <td>1.351254e+03</td>\n",
       "      <td>1.055237e+01</td>\n",
       "    </tr>\n",
       "    <tr>\n",
       "      <th>min</th>\n",
       "      <td>6.100000e+01</td>\n",
       "      <td>3.000000e+00</td>\n",
       "      <td>3.726331e+01</td>\n",
       "      <td>-1.224737e+02</td>\n",
       "      <td>3.000000e+00</td>\n",
       "      <td>3.726331e+01</td>\n",
       "      <td>-1.224737e+02</td>\n",
       "      <td>1.000000e+01</td>\n",
       "      <td>1.878000e+03</td>\n",
       "    </tr>\n",
       "    <tr>\n",
       "      <th>25%</th>\n",
       "      <td>3.620000e+02</td>\n",
       "      <td>2.900000e+01</td>\n",
       "      <td>3.777166e+01</td>\n",
       "      <td>-1.224116e+02</td>\n",
       "      <td>2.700000e+01</td>\n",
       "      <td>3.777241e+01</td>\n",
       "      <td>-1.224099e+02</td>\n",
       "      <td>1.067000e+03</td>\n",
       "      <td>1.976000e+03</td>\n",
       "    </tr>\n",
       "    <tr>\n",
       "      <th>50%</th>\n",
       "      <td>5.700000e+02</td>\n",
       "      <td>8.000000e+01</td>\n",
       "      <td>3.778175e+01</td>\n",
       "      <td>-1.223983e+02</td>\n",
       "      <td>7.700000e+01</td>\n",
       "      <td>3.778241e+01</td>\n",
       "      <td>-1.223974e+02</td>\n",
       "      <td>2.126000e+03</td>\n",
       "      <td>1.984000e+03</td>\n",
       "    </tr>\n",
       "    <tr>\n",
       "      <th>75%</th>\n",
       "      <td>8.960000e+02</td>\n",
       "      <td>1.760000e+02</td>\n",
       "      <td>3.779539e+01</td>\n",
       "      <td>-1.223881e+02</td>\n",
       "      <td>1.760000e+02</td>\n",
       "      <td>3.779539e+01</td>\n",
       "      <td>-1.223881e+02</td>\n",
       "      <td>3.036000e+03</td>\n",
       "      <td>1.990000e+03</td>\n",
       "    </tr>\n",
       "    <tr>\n",
       "      <th>max</th>\n",
       "      <td>8.636900e+04</td>\n",
       "      <td>3.980000e+02</td>\n",
       "      <td>4.551000e+01</td>\n",
       "      <td>-7.357000e+01</td>\n",
       "      <td>3.980000e+02</td>\n",
       "      <td>4.551000e+01</td>\n",
       "      <td>-7.357000e+01</td>\n",
       "      <td>6.645000e+03</td>\n",
       "      <td>2.001000e+03</td>\n",
       "    </tr>\n",
       "  </tbody>\n",
       "</table>\n",
       "</div>"
      ],
      "text/plain": [
       "       duration_sec  start_station_id  start_station_latitude  \\\n",
       "count  2.619577e+06      2.609641e+06            2.619577e+06   \n",
       "mean   9.574587e+02      1.097593e+02            3.776918e+01   \n",
       "std    2.885250e+03      9.537702e+01            9.779569e-02   \n",
       "min    6.100000e+01      3.000000e+00            3.726331e+01   \n",
       "25%    3.620000e+02      2.900000e+01            3.777166e+01   \n",
       "50%    5.700000e+02      8.000000e+01            3.778175e+01   \n",
       "75%    8.960000e+02      1.760000e+02            3.779539e+01   \n",
       "max    8.636900e+04      3.980000e+02            4.551000e+01   \n",
       "\n",
       "       start_station_longitude  end_station_id  end_station_latitude  \\\n",
       "count             2.619577e+06    2.609641e+06          2.619577e+06   \n",
       "mean             -1.223553e+02    1.076609e+02          3.776933e+01   \n",
       "std               1.487854e-01    9.504489e+01          9.769756e-02   \n",
       "min              -1.224737e+02    3.000000e+00          3.726331e+01   \n",
       "25%              -1.224116e+02    2.700000e+01          3.777241e+01   \n",
       "50%              -1.223983e+02    7.700000e+01          3.778241e+01   \n",
       "75%              -1.223881e+02    1.760000e+02          3.779539e+01   \n",
       "max              -7.357000e+01    3.980000e+02          4.551000e+01   \n",
       "\n",
       "       end_station_longitude       bike_id  member_birth_year  \n",
       "count           2.619577e+06  2.619577e+06       2.386275e+06  \n",
       "mean           -1.223547e+02  2.161620e+03       1.982047e+03  \n",
       "std             1.484044e-01  1.351254e+03       1.055237e+01  \n",
       "min            -1.224737e+02  1.000000e+01       1.878000e+03  \n",
       "25%            -1.224099e+02  1.067000e+03       1.976000e+03  \n",
       "50%            -1.223974e+02  2.126000e+03       1.984000e+03  \n",
       "75%            -1.223881e+02  3.036000e+03       1.990000e+03  \n",
       "max            -7.357000e+01  6.645000e+03       2.001000e+03  "
      ]
     },
     "execution_count": 11,
     "metadata": {},
     "output_type": "execute_result"
    }
   ],
   "source": [
    "#let's check out the description\n",
    "df_goBike.describe()"
   ]
  },
  {
   "cell_type": "code",
   "execution_count": 19,
   "metadata": {},
   "outputs": [
    {
     "data": {
      "text/plain": [
       "519700"
      ]
     },
     "execution_count": 19,
     "metadata": {},
     "output_type": "execute_result"
    }
   ],
   "source": [
    "# Let's find out if there is any duplicates in the data\n",
    "df_goBike.duplicated().sum()"
   ]
  },
  {
   "cell_type": "code",
   "execution_count": 20,
   "metadata": {},
   "outputs": [
    {
     "data": {
      "text/plain": [
       "2099877"
      ]
     },
     "execution_count": 20,
     "metadata": {},
     "output_type": "execute_result"
    }
   ],
   "source": [
    "# after merging all the CSV files, we might have duplicate index in our DF\n",
    "sum(df_goBike.index.duplicated())"
   ]
  },
  {
   "cell_type": "code",
   "execution_count": 21,
   "metadata": {},
   "outputs": [
    {
     "data": {
      "text/plain": [
       "519700"
      ]
     },
     "execution_count": 21,
     "metadata": {},
     "output_type": "execute_result"
    }
   ],
   "source": [
    "# confirm correction by rechecking for duplicates in the data\n",
    "sum(df_goBike.duplicated())"
   ]
  },
  {
   "cell_type": "code",
   "execution_count": 22,
   "metadata": {},
   "outputs": [
    {
     "data": {
      "text/plain": [
       "duration_sec                     0\n",
       "start_time                       0\n",
       "end_time                         0\n",
       "start_station_id              9936\n",
       "start_station_name            9936\n",
       "start_station_latitude           0\n",
       "start_station_longitude          0\n",
       "end_station_id                9936\n",
       "end_station_name              9936\n",
       "end_station_latitude             0\n",
       "end_station_longitude            0\n",
       "bike_id                          0\n",
       "user_type                        0\n",
       "member_birth_year           233302\n",
       "member_gender               232807\n",
       "bike_share_for_all_trip    1039400\n",
       "dtype: int64"
      ]
     },
     "execution_count": 22,
     "metadata": {},
     "output_type": "execute_result"
    }
   ],
   "source": [
    "# Now, let's check for any NaN values in the data\n",
    "df_goBike.isna().sum()"
   ]
  },
  {
   "cell_type": "code",
   "execution_count": 23,
   "metadata": {},
   "outputs": [
    {
     "data": {
      "text/plain": [
       "(1809, 16)"
      ]
     },
     "execution_count": 23,
     "metadata": {},
     "output_type": "execute_result"
    }
   ],
   "source": [
    "# find out if there is any member over 100 year old \n",
    "df_goBike.query('member_birth_year < 1920').shape\n"
   ]
  },
  {
   "cell_type": "code",
   "execution_count": 24,
   "metadata": {},
   "outputs": [
    {
     "data": {
      "text/plain": [
       "duration_sec                     0\n",
       "start_time                       0\n",
       "end_time                         0\n",
       "start_station_id              9936\n",
       "start_station_name            9936\n",
       "start_station_latitude           0\n",
       "start_station_longitude          0\n",
       "end_station_id                9936\n",
       "end_station_name              9936\n",
       "end_station_latitude             0\n",
       "end_station_longitude            0\n",
       "bike_id                          0\n",
       "user_type                        0\n",
       "member_birth_year           233302\n",
       "member_gender               232807\n",
       "bike_share_for_all_trip    1039400\n",
       "dtype: int64"
      ]
     },
     "execution_count": 24,
     "metadata": {},
     "output_type": "execute_result"
    }
   ],
   "source": [
    "# check out the NaN value\n",
    "df_goBike.isnull().sum()"
   ]
  },
  {
   "cell_type": "code",
   "execution_count": 25,
   "metadata": {},
   "outputs": [
    {
     "data": {
      "text/html": [
       "<div>\n",
       "<style scoped>\n",
       "    .dataframe tbody tr th:only-of-type {\n",
       "        vertical-align: middle;\n",
       "    }\n",
       "\n",
       "    .dataframe tbody tr th {\n",
       "        vertical-align: top;\n",
       "    }\n",
       "\n",
       "    .dataframe thead th {\n",
       "        text-align: right;\n",
       "    }\n",
       "</style>\n",
       "<table border=\"1\" class=\"dataframe\">\n",
       "  <thead>\n",
       "    <tr style=\"text-align: right;\">\n",
       "      <th></th>\n",
       "      <th>duration_sec</th>\n",
       "      <th>start_time</th>\n",
       "      <th>end_time</th>\n",
       "      <th>start_station_id</th>\n",
       "      <th>start_station_name</th>\n",
       "      <th>start_station_latitude</th>\n",
       "      <th>start_station_longitude</th>\n",
       "      <th>end_station_id</th>\n",
       "      <th>end_station_name</th>\n",
       "      <th>end_station_latitude</th>\n",
       "      <th>end_station_longitude</th>\n",
       "      <th>bike_id</th>\n",
       "      <th>user_type</th>\n",
       "      <th>member_birth_year</th>\n",
       "      <th>member_gender</th>\n",
       "      <th>bike_share_for_all_trip</th>\n",
       "    </tr>\n",
       "  </thead>\n",
       "  <tbody>\n",
       "    <tr>\n",
       "      <th>168</th>\n",
       "      <td>5572</td>\n",
       "      <td>2018-06-30 20:58:31.8550</td>\n",
       "      <td>2018-06-30 22:31:24.5930</td>\n",
       "      <td>NaN</td>\n",
       "      <td>NaN</td>\n",
       "      <td>37.40</td>\n",
       "      <td>-121.94</td>\n",
       "      <td>NaN</td>\n",
       "      <td>NaN</td>\n",
       "      <td>37.40</td>\n",
       "      <td>-121.94</td>\n",
       "      <td>4202</td>\n",
       "      <td>Customer</td>\n",
       "      <td>1989.0</td>\n",
       "      <td>Male</td>\n",
       "      <td>No</td>\n",
       "    </tr>\n",
       "    <tr>\n",
       "      <th>180</th>\n",
       "      <td>573</td>\n",
       "      <td>2018-06-30 22:12:27.5110</td>\n",
       "      <td>2018-06-30 22:22:01.1740</td>\n",
       "      <td>NaN</td>\n",
       "      <td>NaN</td>\n",
       "      <td>37.40</td>\n",
       "      <td>-121.94</td>\n",
       "      <td>NaN</td>\n",
       "      <td>NaN</td>\n",
       "      <td>37.40</td>\n",
       "      <td>-121.93</td>\n",
       "      <td>4095</td>\n",
       "      <td>Subscriber</td>\n",
       "      <td>1994.0</td>\n",
       "      <td>Male</td>\n",
       "      <td>Yes</td>\n",
       "    </tr>\n",
       "    <tr>\n",
       "      <th>197</th>\n",
       "      <td>850</td>\n",
       "      <td>2018-06-30 22:01:25.5850</td>\n",
       "      <td>2018-06-30 22:15:36.1510</td>\n",
       "      <td>NaN</td>\n",
       "      <td>NaN</td>\n",
       "      <td>37.41</td>\n",
       "      <td>-121.94</td>\n",
       "      <td>NaN</td>\n",
       "      <td>NaN</td>\n",
       "      <td>37.41</td>\n",
       "      <td>-121.95</td>\n",
       "      <td>4122</td>\n",
       "      <td>Customer</td>\n",
       "      <td>1990.0</td>\n",
       "      <td>Male</td>\n",
       "      <td>No</td>\n",
       "    </tr>\n",
       "    <tr>\n",
       "      <th>233</th>\n",
       "      <td>562</td>\n",
       "      <td>2018-06-30 21:52:05.1180</td>\n",
       "      <td>2018-06-30 22:01:27.4400</td>\n",
       "      <td>NaN</td>\n",
       "      <td>NaN</td>\n",
       "      <td>37.41</td>\n",
       "      <td>-121.94</td>\n",
       "      <td>NaN</td>\n",
       "      <td>NaN</td>\n",
       "      <td>37.42</td>\n",
       "      <td>-121.94</td>\n",
       "      <td>4184</td>\n",
       "      <td>Subscriber</td>\n",
       "      <td>1989.0</td>\n",
       "      <td>Male</td>\n",
       "      <td>No</td>\n",
       "    </tr>\n",
       "    <tr>\n",
       "      <th>260</th>\n",
       "      <td>819</td>\n",
       "      <td>2018-06-30 21:37:34.5060</td>\n",
       "      <td>2018-06-30 21:51:13.7290</td>\n",
       "      <td>NaN</td>\n",
       "      <td>NaN</td>\n",
       "      <td>37.41</td>\n",
       "      <td>-121.94</td>\n",
       "      <td>NaN</td>\n",
       "      <td>NaN</td>\n",
       "      <td>37.41</td>\n",
       "      <td>-121.96</td>\n",
       "      <td>4137</td>\n",
       "      <td>Customer</td>\n",
       "      <td>1985.0</td>\n",
       "      <td>Male</td>\n",
       "      <td>No</td>\n",
       "    </tr>\n",
       "    <tr>\n",
       "      <th>...</th>\n",
       "      <td>...</td>\n",
       "      <td>...</td>\n",
       "      <td>...</td>\n",
       "      <td>...</td>\n",
       "      <td>...</td>\n",
       "      <td>...</td>\n",
       "      <td>...</td>\n",
       "      <td>...</td>\n",
       "      <td>...</td>\n",
       "      <td>...</td>\n",
       "      <td>...</td>\n",
       "      <td>...</td>\n",
       "      <td>...</td>\n",
       "      <td>...</td>\n",
       "      <td>...</td>\n",
       "      <td>...</td>\n",
       "    </tr>\n",
       "    <tr>\n",
       "      <th>176154</th>\n",
       "      <td>1447</td>\n",
       "      <td>2019-02-02 12:03:04.5440</td>\n",
       "      <td>2019-02-02 12:27:12.2670</td>\n",
       "      <td>NaN</td>\n",
       "      <td>NaN</td>\n",
       "      <td>37.40</td>\n",
       "      <td>-121.93</td>\n",
       "      <td>NaN</td>\n",
       "      <td>NaN</td>\n",
       "      <td>37.40</td>\n",
       "      <td>-121.93</td>\n",
       "      <td>4249</td>\n",
       "      <td>Customer</td>\n",
       "      <td>1984.0</td>\n",
       "      <td>Male</td>\n",
       "      <td>No</td>\n",
       "    </tr>\n",
       "    <tr>\n",
       "      <th>179730</th>\n",
       "      <td>309</td>\n",
       "      <td>2019-02-01 12:59:45.9690</td>\n",
       "      <td>2019-02-01 13:04:55.4260</td>\n",
       "      <td>NaN</td>\n",
       "      <td>NaN</td>\n",
       "      <td>37.40</td>\n",
       "      <td>-121.94</td>\n",
       "      <td>NaN</td>\n",
       "      <td>NaN</td>\n",
       "      <td>37.40</td>\n",
       "      <td>-121.93</td>\n",
       "      <td>4249</td>\n",
       "      <td>Customer</td>\n",
       "      <td>1987.0</td>\n",
       "      <td>Female</td>\n",
       "      <td>No</td>\n",
       "    </tr>\n",
       "    <tr>\n",
       "      <th>179970</th>\n",
       "      <td>659</td>\n",
       "      <td>2019-02-01 12:17:37.6750</td>\n",
       "      <td>2019-02-01 12:28:37.0140</td>\n",
       "      <td>NaN</td>\n",
       "      <td>NaN</td>\n",
       "      <td>37.41</td>\n",
       "      <td>-121.96</td>\n",
       "      <td>NaN</td>\n",
       "      <td>NaN</td>\n",
       "      <td>37.41</td>\n",
       "      <td>-121.94</td>\n",
       "      <td>4092</td>\n",
       "      <td>Subscriber</td>\n",
       "      <td>1999.0</td>\n",
       "      <td>Female</td>\n",
       "      <td>No</td>\n",
       "    </tr>\n",
       "    <tr>\n",
       "      <th>180106</th>\n",
       "      <td>2013</td>\n",
       "      <td>2019-02-01 11:33:55.1470</td>\n",
       "      <td>2019-02-01 12:07:28.9400</td>\n",
       "      <td>NaN</td>\n",
       "      <td>NaN</td>\n",
       "      <td>37.40</td>\n",
       "      <td>-121.94</td>\n",
       "      <td>NaN</td>\n",
       "      <td>NaN</td>\n",
       "      <td>37.40</td>\n",
       "      <td>-121.94</td>\n",
       "      <td>4251</td>\n",
       "      <td>Customer</td>\n",
       "      <td>1990.0</td>\n",
       "      <td>Female</td>\n",
       "      <td>No</td>\n",
       "    </tr>\n",
       "    <tr>\n",
       "      <th>181201</th>\n",
       "      <td>312</td>\n",
       "      <td>2019-02-01 09:26:34.8030</td>\n",
       "      <td>2019-02-01 09:31:46.9210</td>\n",
       "      <td>NaN</td>\n",
       "      <td>NaN</td>\n",
       "      <td>37.40</td>\n",
       "      <td>-121.93</td>\n",
       "      <td>NaN</td>\n",
       "      <td>NaN</td>\n",
       "      <td>37.40</td>\n",
       "      <td>-121.93</td>\n",
       "      <td>4208</td>\n",
       "      <td>Subscriber</td>\n",
       "      <td>1987.0</td>\n",
       "      <td>Male</td>\n",
       "      <td>No</td>\n",
       "    </tr>\n",
       "  </tbody>\n",
       "</table>\n",
       "<p>9936 rows × 16 columns</p>\n",
       "</div>"
      ],
      "text/plain": [
       "        duration_sec                start_time                  end_time  \\\n",
       "168             5572  2018-06-30 20:58:31.8550  2018-06-30 22:31:24.5930   \n",
       "180              573  2018-06-30 22:12:27.5110  2018-06-30 22:22:01.1740   \n",
       "197              850  2018-06-30 22:01:25.5850  2018-06-30 22:15:36.1510   \n",
       "233              562  2018-06-30 21:52:05.1180  2018-06-30 22:01:27.4400   \n",
       "260              819  2018-06-30 21:37:34.5060  2018-06-30 21:51:13.7290   \n",
       "...              ...                       ...                       ...   \n",
       "176154          1447  2019-02-02 12:03:04.5440  2019-02-02 12:27:12.2670   \n",
       "179730           309  2019-02-01 12:59:45.9690  2019-02-01 13:04:55.4260   \n",
       "179970           659  2019-02-01 12:17:37.6750  2019-02-01 12:28:37.0140   \n",
       "180106          2013  2019-02-01 11:33:55.1470  2019-02-01 12:07:28.9400   \n",
       "181201           312  2019-02-01 09:26:34.8030  2019-02-01 09:31:46.9210   \n",
       "\n",
       "        start_station_id start_station_name  start_station_latitude  \\\n",
       "168                  NaN                NaN                   37.40   \n",
       "180                  NaN                NaN                   37.40   \n",
       "197                  NaN                NaN                   37.41   \n",
       "233                  NaN                NaN                   37.41   \n",
       "260                  NaN                NaN                   37.41   \n",
       "...                  ...                ...                     ...   \n",
       "176154               NaN                NaN                   37.40   \n",
       "179730               NaN                NaN                   37.40   \n",
       "179970               NaN                NaN                   37.41   \n",
       "180106               NaN                NaN                   37.40   \n",
       "181201               NaN                NaN                   37.40   \n",
       "\n",
       "        start_station_longitude  end_station_id end_station_name  \\\n",
       "168                     -121.94             NaN              NaN   \n",
       "180                     -121.94             NaN              NaN   \n",
       "197                     -121.94             NaN              NaN   \n",
       "233                     -121.94             NaN              NaN   \n",
       "260                     -121.94             NaN              NaN   \n",
       "...                         ...             ...              ...   \n",
       "176154                  -121.93             NaN              NaN   \n",
       "179730                  -121.94             NaN              NaN   \n",
       "179970                  -121.96             NaN              NaN   \n",
       "180106                  -121.94             NaN              NaN   \n",
       "181201                  -121.93             NaN              NaN   \n",
       "\n",
       "        end_station_latitude  end_station_longitude  bike_id   user_type  \\\n",
       "168                    37.40                -121.94     4202    Customer   \n",
       "180                    37.40                -121.93     4095  Subscriber   \n",
       "197                    37.41                -121.95     4122    Customer   \n",
       "233                    37.42                -121.94     4184  Subscriber   \n",
       "260                    37.41                -121.96     4137    Customer   \n",
       "...                      ...                    ...      ...         ...   \n",
       "176154                 37.40                -121.93     4249    Customer   \n",
       "179730                 37.40                -121.93     4249    Customer   \n",
       "179970                 37.41                -121.94     4092  Subscriber   \n",
       "180106                 37.40                -121.94     4251    Customer   \n",
       "181201                 37.40                -121.93     4208  Subscriber   \n",
       "\n",
       "        member_birth_year member_gender bike_share_for_all_trip  \n",
       "168                1989.0          Male                      No  \n",
       "180                1994.0          Male                     Yes  \n",
       "197                1990.0          Male                      No  \n",
       "233                1989.0          Male                      No  \n",
       "260                1985.0          Male                      No  \n",
       "...                   ...           ...                     ...  \n",
       "176154             1984.0          Male                      No  \n",
       "179730             1987.0        Female                      No  \n",
       "179970             1999.0        Female                      No  \n",
       "180106             1990.0        Female                      No  \n",
       "181201             1987.0          Male                      No  \n",
       "\n",
       "[9936 rows x 16 columns]"
      ]
     },
     "execution_count": 25,
     "metadata": {},
     "output_type": "execute_result"
    }
   ],
   "source": [
    "# what are these NaN?\n",
    "df_goBike[df_goBike['start_station_id'].isnull()]"
   ]
  },
  {
   "cell_type": "markdown",
   "metadata": {},
   "source": [
    "# Issues"
   ]
  },
  {
   "cell_type": "markdown",
   "metadata": {},
   "source": [
    "<a id='q_issues'></a>\n",
    "#### Data Quality & Tidness Issues"
   ]
  },
  {
   "cell_type": "markdown",
   "metadata": {},
   "source": [
    "1. [Duplicate index](#q_01)\n",
    "2. [Duplicate rows](#q_02)\n",
    "3. [Many null values for several columns.](#q_03)\n",
    "4. [Data types of some columns are inappropriate.](#q_4)\n",
    "5. [some values violate the rule of accuracy.](#q_05)"
   ]
  },
  {
   "cell_type": "markdown",
   "metadata": {},
   "source": [
    "<a id='t_issues'></a>\n",
    "#### Data Tidness Issues"
   ]
  },
  {
   "cell_type": "markdown",
   "metadata": {},
   "source": [
    "1. [Two columns need to be split into 7 columns each.](#t_01)\n",
    "2. [A new column has to be added to represents needs information.](#t_02)"
   ]
  },
  {
   "cell_type": "markdown",
   "metadata": {},
   "source": [
    "<a id='clean'></a>\n",
    "# Clean"
   ]
  },
  {
   "cell_type": "markdown",
   "metadata": {},
   "source": [
    "<a id='q_clean'></a>\n",
    "## Quality"
   ]
  },
  {
   "cell_type": "code",
   "execution_count": 26,
   "metadata": {},
   "outputs": [],
   "source": [
    "df_goBike_clean = df_goBike.copy()"
   ]
  },
  {
   "cell_type": "markdown",
   "metadata": {},
   "source": [
    "<a id='q_01'></a>\n",
    "#### 01 Define \n",
    "Reset index"
   ]
  },
  {
   "cell_type": "markdown",
   "metadata": {},
   "source": [
    "#### Code"
   ]
  },
  {
   "cell_type": "code",
   "execution_count": 27,
   "metadata": {},
   "outputs": [],
   "source": [
    "df_goBike_clean = df_goBike_clean.reset_index()"
   ]
  },
  {
   "cell_type": "markdown",
   "metadata": {},
   "source": [
    "#### Test"
   ]
  },
  {
   "cell_type": "code",
   "execution_count": 28,
   "metadata": {},
   "outputs": [
    {
     "data": {
      "text/plain": [
       "True"
      ]
     },
     "execution_count": 28,
     "metadata": {},
     "output_type": "execute_result"
    }
   ],
   "source": [
    "(sum(df_goBike_clean.index.duplicated())) == 0"
   ]
  },
  {
   "cell_type": "markdown",
   "metadata": {},
   "source": [
    "<a id='q_02'></a>\n",
    "#### 02 Define \n",
    "remove duplicate rows from the dataframe"
   ]
  },
  {
   "cell_type": "markdown",
   "metadata": {},
   "source": [
    "#### Code"
   ]
  },
  {
   "cell_type": "code",
   "execution_count": 29,
   "metadata": {},
   "outputs": [],
   "source": [
    "# drop duplicates\n",
    "df_goBike_clean.drop_duplicates(inplace=True)"
   ]
  },
  {
   "cell_type": "markdown",
   "metadata": {},
   "source": [
    "#### Test"
   ]
  },
  {
   "cell_type": "code",
   "execution_count": 30,
   "metadata": {},
   "outputs": [
    {
     "data": {
      "text/plain": [
       "0"
      ]
     },
     "execution_count": 30,
     "metadata": {},
     "output_type": "execute_result"
    }
   ],
   "source": [
    "# confirm correction by rechecking for duplicates in the data\n",
    "sum(df_goBike_clean.duplicated())"
   ]
  },
  {
   "cell_type": "markdown",
   "metadata": {},
   "source": [
    "<a id='q_03'></a>\n",
    "#### 03 Define \n",
    "remove null values from the data frame"
   ]
  },
  {
   "cell_type": "markdown",
   "metadata": {},
   "source": [
    "#### Code"
   ]
  },
  {
   "cell_type": "code",
   "execution_count": 31,
   "metadata": {},
   "outputs": [
    {
     "data": {
      "text/plain": [
       "index                           0\n",
       "duration_sec                    0\n",
       "start_time                      0\n",
       "end_time                        0\n",
       "start_station_id             9936\n",
       "start_station_name           9936\n",
       "start_station_latitude          0\n",
       "start_station_longitude         0\n",
       "end_station_id               9936\n",
       "end_station_name             9936\n",
       "end_station_latitude            0\n",
       "end_station_longitude           0\n",
       "bike_id                         0\n",
       "user_type                       0\n",
       "member_birth_year          166761\n",
       "member_gender              166345\n",
       "bike_share_for_all_trip    519700\n",
       "dtype: int64"
      ]
     },
     "execution_count": 31,
     "metadata": {},
     "output_type": "execute_result"
    }
   ],
   "source": [
    "# first we need to check again the total of null for each column\n",
    "df_goBike_clean.isnull().sum()"
   ]
  },
  {
   "cell_type": "markdown",
   "metadata": {},
   "source": [
    "As you see above, we guess that if we remove the null values from 'start_station_id' we end up with removing all 197 null values from all columns. Then we remove the null from 'member_birth_year' and hope we have no more none in the DF. "
   ]
  },
  {
   "cell_type": "code",
   "execution_count": 32,
   "metadata": {},
   "outputs": [],
   "source": [
    "# remove null values from 'start_station_id' and 'member_birth_year'\n",
    "df_goBike_clean = df_goBike_clean[df_goBike_clean.start_station_id.notnull()]\n",
    "df_goBike_clean = df_goBike_clean[df_goBike_clean.member_birth_year.notnull()]"
   ]
  },
  {
   "cell_type": "markdown",
   "metadata": {},
   "source": [
    "#### Test"
   ]
  },
  {
   "cell_type": "code",
   "execution_count": 33,
   "metadata": {},
   "outputs": [
    {
     "data": {
      "text/plain": [
       "index                           0\n",
       "duration_sec                    0\n",
       "start_time                      0\n",
       "end_time                        0\n",
       "start_station_id                0\n",
       "start_station_name              0\n",
       "start_station_latitude          0\n",
       "start_station_longitude         0\n",
       "end_station_id                  0\n",
       "end_station_name                0\n",
       "end_station_latitude            0\n",
       "end_station_longitude           0\n",
       "bike_id                         0\n",
       "user_type                       0\n",
       "member_birth_year               0\n",
       "member_gender                   0\n",
       "bike_share_for_all_trip    453159\n",
       "dtype: int64"
      ]
     },
     "execution_count": 33,
     "metadata": {},
     "output_type": "execute_result"
    }
   ],
   "source": [
    "# it should be zero\n",
    "df_goBike_clean.isnull().sum()"
   ]
  },
  {
   "cell_type": "markdown",
   "metadata": {},
   "source": [
    "#### 'bike_share_for_all_trip' is still has null values. We need to clean it"
   ]
  },
  {
   "cell_type": "markdown",
   "metadata": {},
   "source": [
    "<p style=\"color:red\">As you see below we disabled the commands as we found out that 'bike_share_for_all_trip' column wasn't used for the 2017 data frame. If we run the below lines, we would loss all 2017 records. We tolerated it as we didn't need it for our features of interest</p> "
   ]
  },
  {
   "cell_type": "code",
   "execution_count": 34,
   "metadata": {},
   "outputs": [],
   "source": [
    "#df_goBike_clean = df_goBike_clean[df_goBike_clean.bike_share_for_all_trip.notnull()]"
   ]
  },
  {
   "cell_type": "code",
   "execution_count": 35,
   "metadata": {},
   "outputs": [],
   "source": [
    "# it must be zero\n",
    "#df_goBike_clean.isnull().sum()"
   ]
  },
  {
   "cell_type": "code",
   "execution_count": 36,
   "metadata": {},
   "outputs": [
    {
     "data": {
      "text/plain": [
       "(1923456, 17)"
      ]
     },
     "execution_count": 36,
     "metadata": {},
     "output_type": "execute_result"
    }
   ],
   "source": [
    "# lets check out how many rows we have\n",
    "df_goBike_clean.shape"
   ]
  },
  {
   "cell_type": "markdown",
   "metadata": {},
   "source": [
    "<a id='q_04'></a>\n",
    "#### 04 Define\n",
    "\n",
    "Convert the following columns to the appropriate data type:\n",
    "\n",
    "<b>'start_station_id'</b> and <b>'end_station_id'</b> to the int format.<br />\n",
    "<b>'bike_id'</b>, <b>'start_station_id'</b>, and <b>'end_station_id'</b> to object format.<br />\n",
    "<b>'user_type'</b>, <b>'member_gender'</b>, and <b>'bike_share_for_all_trip'</b> to category format.<br />\n",
    "<b>'start_time'</b>, <b>'end_time'</b> to the timestamp format.<br />\n",
    "<b>'member_birth_year'</b> to int format.</b>\n"
   ]
  },
  {
   "cell_type": "markdown",
   "metadata": {},
   "source": [
    "#### Code"
   ]
  },
  {
   "cell_type": "code",
   "execution_count": 37,
   "metadata": {},
   "outputs": [],
   "source": [
    "# convert 'start_station_id' and 'end_station_id' from float to the int format\n",
    "df_goBike_clean.start_station_id = df_goBike_clean.start_station_id.astype('int64')\n",
    "df_goBike_clean.end_station_id = df_goBike_clean.end_station_id.astype('int64')"
   ]
  },
  {
   "cell_type": "code",
   "execution_count": 38,
   "metadata": {},
   "outputs": [],
   "source": [
    "# change the type of 'bike_id', 'start_station_id, and 'end_station_id' to object format.\n",
    "df_goBike_clean.bike_id = df_goBike_clean.bike_id.astype(str)\n",
    "df_goBike_clean.start_station_id = df_goBike_clean.start_station_id.astype(str)\n",
    "df_goBike_clean.end_station_id = df_goBike_clean.end_station_id.astype(str)"
   ]
  },
  {
   "cell_type": "code",
   "execution_count": 39,
   "metadata": {},
   "outputs": [],
   "source": [
    "# change 'user_type', 'member_gender', and'bike_share_for_all_trip' to category format.\n",
    "df_goBike_clean.user_type = df_goBike_clean.user_type.astype('category')\n",
    "df_goBike_clean.member_gender = df_goBike_clean.member_gender.astype('category')\n",
    "df_goBike_clean.bike_share_for_all_trip = df_goBike_clean.bike_share_for_all_trip.astype('category')"
   ]
  },
  {
   "cell_type": "code",
   "execution_count": 40,
   "metadata": {},
   "outputs": [],
   "source": [
    "# change 'start_time', 'end_time' to the timestamp format.\n",
    "df_goBike_clean.start_time = pd.to_datetime(df_goBike_clean.start_time)\n",
    "df_goBike_clean.end_time = pd.to_datetime(df_goBike_clean.end_time)"
   ]
  },
  {
   "cell_type": "code",
   "execution_count": 41,
   "metadata": {},
   "outputs": [],
   "source": [
    "# convert 'member_birth_year' from float to int\n",
    "df_goBike_clean.member_birth_year = df_goBike_clean.member_birth_year.astype('int64')"
   ]
  },
  {
   "cell_type": "markdown",
   "metadata": {},
   "source": [
    "#### Test"
   ]
  },
  {
   "cell_type": "code",
   "execution_count": 42,
   "metadata": {},
   "outputs": [
    {
     "name": "stdout",
     "output_type": "stream",
     "text": [
      "<class 'pandas.core.frame.DataFrame'>\n",
      "Int64Index: 1923456 entries, 0 to 2619576\n",
      "Data columns (total 17 columns):\n",
      " #   Column                   Dtype         \n",
      "---  ------                   -----         \n",
      " 0   index                    int64         \n",
      " 1   duration_sec             int64         \n",
      " 2   start_time               datetime64[ns]\n",
      " 3   end_time                 datetime64[ns]\n",
      " 4   start_station_id         object        \n",
      " 5   start_station_name       object        \n",
      " 6   start_station_latitude   float64       \n",
      " 7   start_station_longitude  float64       \n",
      " 8   end_station_id           object        \n",
      " 9   end_station_name         object        \n",
      " 10  end_station_latitude     float64       \n",
      " 11  end_station_longitude    float64       \n",
      " 12  bike_id                  object        \n",
      " 13  user_type                category      \n",
      " 14  member_birth_year        int64         \n",
      " 15  member_gender            category      \n",
      " 16  bike_share_for_all_trip  category      \n",
      "dtypes: category(3), datetime64[ns](2), float64(4), int64(3), object(5)\n",
      "memory usage: 225.6+ MB\n"
     ]
    }
   ],
   "source": [
    "df_goBike_clean.info()"
   ]
  },
  {
   "cell_type": "code",
   "execution_count": 43,
   "metadata": {},
   "outputs": [
    {
     "data": {
      "text/html": [
       "<div>\n",
       "<style scoped>\n",
       "    .dataframe tbody tr th:only-of-type {\n",
       "        vertical-align: middle;\n",
       "    }\n",
       "\n",
       "    .dataframe tbody tr th {\n",
       "        vertical-align: top;\n",
       "    }\n",
       "\n",
       "    .dataframe thead th {\n",
       "        text-align: right;\n",
       "    }\n",
       "</style>\n",
       "<table border=\"1\" class=\"dataframe\">\n",
       "  <thead>\n",
       "    <tr style=\"text-align: right;\">\n",
       "      <th></th>\n",
       "      <th>index</th>\n",
       "      <th>duration_sec</th>\n",
       "      <th>start_time</th>\n",
       "      <th>end_time</th>\n",
       "      <th>start_station_id</th>\n",
       "      <th>start_station_name</th>\n",
       "      <th>start_station_latitude</th>\n",
       "      <th>start_station_longitude</th>\n",
       "      <th>end_station_id</th>\n",
       "      <th>end_station_name</th>\n",
       "      <th>end_station_latitude</th>\n",
       "      <th>end_station_longitude</th>\n",
       "      <th>bike_id</th>\n",
       "      <th>user_type</th>\n",
       "      <th>member_birth_year</th>\n",
       "      <th>member_gender</th>\n",
       "      <th>bike_share_for_all_trip</th>\n",
       "    </tr>\n",
       "  </thead>\n",
       "  <tbody>\n",
       "    <tr>\n",
       "      <th>0</th>\n",
       "      <td>0</td>\n",
       "      <td>80110</td>\n",
       "      <td>2017-12-31 16:57:39.654</td>\n",
       "      <td>2018-01-01 15:12:50.245</td>\n",
       "      <td>74</td>\n",
       "      <td>Laguna St at Hayes St</td>\n",
       "      <td>37.776435</td>\n",
       "      <td>-122.426244</td>\n",
       "      <td>43</td>\n",
       "      <td>San Francisco Public Library (Grove St at Hyde...</td>\n",
       "      <td>37.778768</td>\n",
       "      <td>-122.415929</td>\n",
       "      <td>96</td>\n",
       "      <td>Customer</td>\n",
       "      <td>1987</td>\n",
       "      <td>Male</td>\n",
       "      <td>NaN</td>\n",
       "    </tr>\n",
       "    <tr>\n",
       "      <th>1</th>\n",
       "      <td>1</td>\n",
       "      <td>78800</td>\n",
       "      <td>2017-12-31 15:56:34.842</td>\n",
       "      <td>2018-01-01 13:49:55.617</td>\n",
       "      <td>284</td>\n",
       "      <td>Yerba Buena Center for the Arts (Howard St at ...</td>\n",
       "      <td>37.784872</td>\n",
       "      <td>-122.400876</td>\n",
       "      <td>96</td>\n",
       "      <td>Dolores St at 15th St</td>\n",
       "      <td>37.766210</td>\n",
       "      <td>-122.426614</td>\n",
       "      <td>88</td>\n",
       "      <td>Customer</td>\n",
       "      <td>1965</td>\n",
       "      <td>Female</td>\n",
       "      <td>NaN</td>\n",
       "    </tr>\n",
       "    <tr>\n",
       "      <th>4</th>\n",
       "      <td>4</td>\n",
       "      <td>43603</td>\n",
       "      <td>2017-12-31 14:23:14.001</td>\n",
       "      <td>2018-01-01 02:29:57.571</td>\n",
       "      <td>239</td>\n",
       "      <td>Bancroft Way at Telegraph Ave</td>\n",
       "      <td>37.868813</td>\n",
       "      <td>-122.258764</td>\n",
       "      <td>247</td>\n",
       "      <td>Fulton St at Bancroft Way</td>\n",
       "      <td>37.867789</td>\n",
       "      <td>-122.265896</td>\n",
       "      <td>3167</td>\n",
       "      <td>Subscriber</td>\n",
       "      <td>1997</td>\n",
       "      <td>Female</td>\n",
       "      <td>NaN</td>\n",
       "    </tr>\n",
       "    <tr>\n",
       "      <th>6</th>\n",
       "      <td>6</td>\n",
       "      <td>4507</td>\n",
       "      <td>2017-12-31 23:49:28.422</td>\n",
       "      <td>2018-01-01 01:04:35.619</td>\n",
       "      <td>259</td>\n",
       "      <td>Addison St at Fourth St</td>\n",
       "      <td>37.866249</td>\n",
       "      <td>-122.299371</td>\n",
       "      <td>259</td>\n",
       "      <td>Addison St at Fourth St</td>\n",
       "      <td>37.866249</td>\n",
       "      <td>-122.299371</td>\n",
       "      <td>3539</td>\n",
       "      <td>Customer</td>\n",
       "      <td>1991</td>\n",
       "      <td>Female</td>\n",
       "      <td>NaN</td>\n",
       "    </tr>\n",
       "    <tr>\n",
       "      <th>12</th>\n",
       "      <td>12</td>\n",
       "      <td>2183</td>\n",
       "      <td>2017-12-31 23:52:55.581</td>\n",
       "      <td>2018-01-01 00:29:18.743</td>\n",
       "      <td>67</td>\n",
       "      <td>San Francisco Caltrain Station 2  (Townsend St...</td>\n",
       "      <td>37.776639</td>\n",
       "      <td>-122.395526</td>\n",
       "      <td>24</td>\n",
       "      <td>Spear St at Folsom St</td>\n",
       "      <td>37.789677</td>\n",
       "      <td>-122.390428</td>\n",
       "      <td>2311</td>\n",
       "      <td>Subscriber</td>\n",
       "      <td>1990</td>\n",
       "      <td>Male</td>\n",
       "      <td>NaN</td>\n",
       "    </tr>\n",
       "    <tr>\n",
       "      <th>13</th>\n",
       "      <td>13</td>\n",
       "      <td>2170</td>\n",
       "      <td>2017-12-31 23:52:55.937</td>\n",
       "      <td>2018-01-01 00:29:06.924</td>\n",
       "      <td>67</td>\n",
       "      <td>San Francisco Caltrain Station 2  (Townsend St...</td>\n",
       "      <td>37.776639</td>\n",
       "      <td>-122.395526</td>\n",
       "      <td>24</td>\n",
       "      <td>Spear St at Folsom St</td>\n",
       "      <td>37.789677</td>\n",
       "      <td>-122.390428</td>\n",
       "      <td>3717</td>\n",
       "      <td>Subscriber</td>\n",
       "      <td>1990</td>\n",
       "      <td>Male</td>\n",
       "      <td>NaN</td>\n",
       "    </tr>\n",
       "    <tr>\n",
       "      <th>15</th>\n",
       "      <td>15</td>\n",
       "      <td>1544</td>\n",
       "      <td>2017-12-31 23:53:38.943</td>\n",
       "      <td>2018-01-01 00:19:23.047</td>\n",
       "      <td>14</td>\n",
       "      <td>Clay St at Battery St</td>\n",
       "      <td>37.795001</td>\n",
       "      <td>-122.399970</td>\n",
       "      <td>27</td>\n",
       "      <td>Beale St at Harrison St</td>\n",
       "      <td>37.788059</td>\n",
       "      <td>-122.391865</td>\n",
       "      <td>558</td>\n",
       "      <td>Subscriber</td>\n",
       "      <td>1980</td>\n",
       "      <td>Female</td>\n",
       "      <td>NaN</td>\n",
       "    </tr>\n",
       "  </tbody>\n",
       "</table>\n",
       "</div>"
      ],
      "text/plain": [
       "    index  duration_sec              start_time                end_time  \\\n",
       "0       0         80110 2017-12-31 16:57:39.654 2018-01-01 15:12:50.245   \n",
       "1       1         78800 2017-12-31 15:56:34.842 2018-01-01 13:49:55.617   \n",
       "4       4         43603 2017-12-31 14:23:14.001 2018-01-01 02:29:57.571   \n",
       "6       6          4507 2017-12-31 23:49:28.422 2018-01-01 01:04:35.619   \n",
       "12     12          2183 2017-12-31 23:52:55.581 2018-01-01 00:29:18.743   \n",
       "13     13          2170 2017-12-31 23:52:55.937 2018-01-01 00:29:06.924   \n",
       "15     15          1544 2017-12-31 23:53:38.943 2018-01-01 00:19:23.047   \n",
       "\n",
       "   start_station_id                                 start_station_name  \\\n",
       "0                74                              Laguna St at Hayes St   \n",
       "1               284  Yerba Buena Center for the Arts (Howard St at ...   \n",
       "4               239                      Bancroft Way at Telegraph Ave   \n",
       "6               259                            Addison St at Fourth St   \n",
       "12               67  San Francisco Caltrain Station 2  (Townsend St...   \n",
       "13               67  San Francisco Caltrain Station 2  (Townsend St...   \n",
       "15               14                              Clay St at Battery St   \n",
       "\n",
       "    start_station_latitude  start_station_longitude end_station_id  \\\n",
       "0                37.776435              -122.426244             43   \n",
       "1                37.784872              -122.400876             96   \n",
       "4                37.868813              -122.258764            247   \n",
       "6                37.866249              -122.299371            259   \n",
       "12               37.776639              -122.395526             24   \n",
       "13               37.776639              -122.395526             24   \n",
       "15               37.795001              -122.399970             27   \n",
       "\n",
       "                                     end_station_name  end_station_latitude  \\\n",
       "0   San Francisco Public Library (Grove St at Hyde...             37.778768   \n",
       "1                               Dolores St at 15th St             37.766210   \n",
       "4                           Fulton St at Bancroft Way             37.867789   \n",
       "6                             Addison St at Fourth St             37.866249   \n",
       "12                              Spear St at Folsom St             37.789677   \n",
       "13                              Spear St at Folsom St             37.789677   \n",
       "15                            Beale St at Harrison St             37.788059   \n",
       "\n",
       "    end_station_longitude bike_id   user_type  member_birth_year  \\\n",
       "0             -122.415929      96    Customer               1987   \n",
       "1             -122.426614      88    Customer               1965   \n",
       "4             -122.265896    3167  Subscriber               1997   \n",
       "6             -122.299371    3539    Customer               1991   \n",
       "12            -122.390428    2311  Subscriber               1990   \n",
       "13            -122.390428    3717  Subscriber               1990   \n",
       "15            -122.391865     558  Subscriber               1980   \n",
       "\n",
       "   member_gender bike_share_for_all_trip  \n",
       "0           Male                     NaN  \n",
       "1         Female                     NaN  \n",
       "4         Female                     NaN  \n",
       "6         Female                     NaN  \n",
       "12          Male                     NaN  \n",
       "13          Male                     NaN  \n",
       "15        Female                     NaN  "
      ]
     },
     "execution_count": 43,
     "metadata": {},
     "output_type": "execute_result"
    }
   ],
   "source": [
    "df_goBike_clean.head(7)"
   ]
  },
  {
   "cell_type": "markdown",
   "metadata": {},
   "source": [
    "<a id='q_05'></a>\n",
    "#### 05 Define\n",
    "\n",
    "remove any member who is over 100 year old."
   ]
  },
  {
   "cell_type": "markdown",
   "metadata": {},
   "source": [
    "#### Code"
   ]
  },
  {
   "cell_type": "code",
   "execution_count": 44,
   "metadata": {},
   "outputs": [
    {
     "data": {
      "text/plain": [
       "(1922031, 17)"
      ]
     },
     "execution_count": 44,
     "metadata": {},
     "output_type": "execute_result"
    }
   ],
   "source": [
    "# extracting all members whose ages less or equal to 100 year old\n",
    "df_temp = df_goBike_clean.query('member_birth_year >= 1920')\n",
    "df_temp.shape"
   ]
  },
  {
   "cell_type": "code",
   "execution_count": 45,
   "metadata": {},
   "outputs": [],
   "source": [
    "# update our data frame\n",
    "df_goBike_clean = df_temp"
   ]
  },
  {
   "cell_type": "markdown",
   "metadata": {},
   "source": [
    "#### Test"
   ]
  },
  {
   "cell_type": "code",
   "execution_count": 46,
   "metadata": {},
   "outputs": [
    {
     "data": {
      "text/plain": [
       "True"
      ]
     },
     "execution_count": 46,
     "metadata": {},
     "output_type": "execute_result"
    }
   ],
   "source": [
    "(df_goBike_clean.query('member_birth_year < 1920').shape[0])== 0"
   ]
  },
  {
   "cell_type": "markdown",
   "metadata": {},
   "source": [
    "<a id='t_clean'></a>\n",
    "## Tidness"
   ]
  },
  {
   "cell_type": "markdown",
   "metadata": {},
   "source": [
    "<a id='t_01'></a>\n",
    "#### 01 Define\n",
    "\n",
    "split 'start_time' and 'end time' into 7 new columns"
   ]
  },
  {
   "cell_type": "markdown",
   "metadata": {},
   "source": [
    "#### Code"
   ]
  },
  {
   "cell_type": "code",
   "execution_count": 47,
   "metadata": {},
   "outputs": [],
   "source": [
    "# split 'start_time' and 'end time' into 7 new columns\n",
    "df_temp = pd.DatetimeIndex(df_goBike_clean['start_time'])\n",
    "df_goBike_clean['Start_Date'] = df_temp.date\n",
    "df_goBike_clean['Start_Year'] = df_temp.year\n",
    "df_goBike_clean['Start_Month'] = df_temp.month\n",
    "df_goBike_clean['Start_Day_of_Week'] = df_temp.dayofweek\n",
    "df_goBike_clean['Start_Time'] = df_temp.time\n",
    "df_goBike_clean['Start_Hour'] = df_temp.hour\n",
    "df_goBike_clean['Start_Min'] = df_temp.minute\n",
    "\n",
    "df_temp = pd.DatetimeIndex(df_goBike_clean['end_time'])\n",
    "df_goBike_clean['End_Date'] = df_temp.date\n",
    "df_goBike_clean['End_Year'] = df_temp.year\n",
    "df_goBike_clean['End_Month'] = df_temp.month\n",
    "df_goBike_clean['End_Day_of_Week'] = df_temp.dayofweek\n",
    "df_goBike_clean['Start_Time'] = df_temp.time\n",
    "df_goBike_clean['End_Hour'] = df_temp.hour\n",
    "df_goBike_clean['End_Min'] = df_temp.minute\n",
    "\n",
    "\n",
    "#drop the two columns: 'start_time' and 'end time'\n",
    "df_goBike_clean = df_goBike_clean.drop('start_time', axis=1)\n",
    "df_goBike_clean = df_goBike_clean.drop('end_time', axis=1)"
   ]
  },
  {
   "cell_type": "code",
   "execution_count": 48,
   "metadata": {},
   "outputs": [
    {
     "name": "stdout",
     "output_type": "stream",
     "text": [
      "<class 'pandas.core.frame.DataFrame'>\n",
      "Int64Index: 1922031 entries, 0 to 2619576\n",
      "Data columns (total 28 columns):\n",
      " #   Column                   Dtype   \n",
      "---  ------                   -----   \n",
      " 0   index                    int64   \n",
      " 1   duration_sec             int64   \n",
      " 2   start_station_id         object  \n",
      " 3   start_station_name       object  \n",
      " 4   start_station_latitude   float64 \n",
      " 5   start_station_longitude  float64 \n",
      " 6   end_station_id           object  \n",
      " 7   end_station_name         object  \n",
      " 8   end_station_latitude     float64 \n",
      " 9   end_station_longitude    float64 \n",
      " 10  bike_id                  object  \n",
      " 11  user_type                category\n",
      " 12  member_birth_year        int64   \n",
      " 13  member_gender            category\n",
      " 14  bike_share_for_all_trip  category\n",
      " 15  Start_Date               object  \n",
      " 16  Start_Year               int64   \n",
      " 17  Start_Month              int64   \n",
      " 18  Start_Day_of_Week        int64   \n",
      " 19  Start_Time               object  \n",
      " 20  Start_Hour               int64   \n",
      " 21  Start_Min                int64   \n",
      " 22  End_Date                 object  \n",
      " 23  End_Year                 int64   \n",
      " 24  End_Month                int64   \n",
      " 25  End_Day_of_Week          int64   \n",
      " 26  End_Hour                 int64   \n",
      " 27  End_Min                  int64   \n",
      "dtypes: category(3), float64(4), int64(13), object(8)\n",
      "memory usage: 386.8+ MB\n"
     ]
    }
   ],
   "source": [
    "df_goBike_clean.info()"
   ]
  },
  {
   "cell_type": "markdown",
   "metadata": {},
   "source": [
    "#### Test"
   ]
  },
  {
   "cell_type": "code",
   "execution_count": 49,
   "metadata": {},
   "outputs": [
    {
     "name": "stdout",
     "output_type": "stream",
     "text": [
      "<class 'pandas.core.frame.DataFrame'>\n",
      "Int64Index: 1922031 entries, 0 to 2619576\n",
      "Data columns (total 28 columns):\n",
      " #   Column                   Dtype   \n",
      "---  ------                   -----   \n",
      " 0   index                    int64   \n",
      " 1   duration_sec             int64   \n",
      " 2   start_station_id         object  \n",
      " 3   start_station_name       object  \n",
      " 4   start_station_latitude   float64 \n",
      " 5   start_station_longitude  float64 \n",
      " 6   end_station_id           object  \n",
      " 7   end_station_name         object  \n",
      " 8   end_station_latitude     float64 \n",
      " 9   end_station_longitude    float64 \n",
      " 10  bike_id                  object  \n",
      " 11  user_type                category\n",
      " 12  member_birth_year        int64   \n",
      " 13  member_gender            category\n",
      " 14  bike_share_for_all_trip  category\n",
      " 15  Start_Date               object  \n",
      " 16  Start_Year               int64   \n",
      " 17  Start_Month              int64   \n",
      " 18  Start_Day_of_Week        int64   \n",
      " 19  Start_Time               object  \n",
      " 20  Start_Hour               int64   \n",
      " 21  Start_Min                int64   \n",
      " 22  End_Date                 object  \n",
      " 23  End_Year                 int64   \n",
      " 24  End_Month                int64   \n",
      " 25  End_Day_of_Week          int64   \n",
      " 26  End_Hour                 int64   \n",
      " 27  End_Min                  int64   \n",
      "dtypes: category(3), float64(4), int64(13), object(8)\n",
      "memory usage: 386.8+ MB\n"
     ]
    }
   ],
   "source": [
    "df_goBike_clean.info()"
   ]
  },
  {
   "cell_type": "markdown",
   "metadata": {},
   "source": [
    "<a id='t_02'></a>\n",
    "#### 02 Define\n",
    "\n",
    "Add age and duration_min columns"
   ]
  },
  {
   "cell_type": "markdown",
   "metadata": {},
   "source": [
    "#### Code"
   ]
  },
  {
   "cell_type": "code",
   "execution_count": 50,
   "metadata": {},
   "outputs": [],
   "source": [
    "# cacluating a member's age by getting the current year and substracting 'member_birth_year' from it\n",
    "from datetime import datetime\n",
    "currentYear = datetime.now().year\n",
    "currentYear\n",
    "df_goBike_clean['member_age'] = currentYear - df_goBike_clean['member_birth_year']\n",
    "\n",
    "df_goBike_clean['duration_min'] = df_goBike_clean['duration_sec']/60\n",
    "df_goBike_clean['duration_min'] = df_goBike_clean['duration_min']"
   ]
  },
  {
   "cell_type": "markdown",
   "metadata": {},
   "source": [
    "#### Test"
   ]
  },
  {
   "cell_type": "code",
   "execution_count": 51,
   "metadata": {},
   "outputs": [
    {
     "data": {
      "text/html": [
       "<div>\n",
       "<style scoped>\n",
       "    .dataframe tbody tr th:only-of-type {\n",
       "        vertical-align: middle;\n",
       "    }\n",
       "\n",
       "    .dataframe tbody tr th {\n",
       "        vertical-align: top;\n",
       "    }\n",
       "\n",
       "    .dataframe thead th {\n",
       "        text-align: right;\n",
       "    }\n",
       "</style>\n",
       "<table border=\"1\" class=\"dataframe\">\n",
       "  <thead>\n",
       "    <tr style=\"text-align: right;\">\n",
       "      <th></th>\n",
       "      <th>member_birth_year</th>\n",
       "      <th>member_age</th>\n",
       "    </tr>\n",
       "  </thead>\n",
       "  <tbody>\n",
       "    <tr>\n",
       "      <th>0</th>\n",
       "      <td>1987</td>\n",
       "      <td>33</td>\n",
       "    </tr>\n",
       "    <tr>\n",
       "      <th>1</th>\n",
       "      <td>1965</td>\n",
       "      <td>55</td>\n",
       "    </tr>\n",
       "    <tr>\n",
       "      <th>2</th>\n",
       "      <td>1997</td>\n",
       "      <td>23</td>\n",
       "    </tr>\n",
       "    <tr>\n",
       "      <th>3</th>\n",
       "      <td>1991</td>\n",
       "      <td>29</td>\n",
       "    </tr>\n",
       "  </tbody>\n",
       "</table>\n",
       "</div>"
      ],
      "text/plain": [
       "   member_birth_year  member_age\n",
       "0               1987          33\n",
       "1               1965          55\n",
       "2               1997          23\n",
       "3               1991          29"
      ]
     },
     "execution_count": 51,
     "metadata": {},
     "output_type": "execute_result"
    }
   ],
   "source": [
    "df_goBike_clean = df_goBike_clean.reset_index()\n",
    "df_goBike_clean.loc[:3,['member_birth_year','member_age']]"
   ]
  },
  {
   "cell_type": "markdown",
   "metadata": {},
   "source": [
    "<a id='s_01'></a>\n",
    "## Storing the data"
   ]
  },
  {
   "cell_type": "code",
   "execution_count": 52,
   "metadata": {},
   "outputs": [],
   "source": [
    "df_goBike_clean.to_csv('df_goBike_clean.csv', index = False)"
   ]
  },
  {
   "cell_type": "markdown",
   "metadata": {},
   "source": [
    "<a id='features_01'></a>\n",
    "## The features of interest"
   ]
  },
  {
   "cell_type": "markdown",
   "metadata": {},
   "source": [
    "#### I am interested in digging many features of our dataset to find answers of the following questions \n",
    "\n",
    "1. what is the most gender like to bike?\n",
    "2. what are their ages?\n",
    "3. what time do we have more trips? In the morning, afternoon, or evening?\n",
    "4. The status of bike usage during weekdays.\n",
    "5. What is the number of bike usage per location?\n",
    "6. which location has the most trip?\n",
    "7. Where, when, and what day do unsubscribed customers bike compared to subscribed customers?"
   ]
  },
  {
   "cell_type": "markdown",
   "metadata": {},
   "source": [
    "<a id='u_exploration'></a>\n",
    "## Univariate Exploration"
   ]
  },
  {
   "cell_type": "markdown",
   "metadata": {},
   "source": [
    "### Lets find out the usage of FordGoBike by Month."
   ]
  },
  {
   "cell_type": "code",
   "execution_count": 54,
   "metadata": {},
   "outputs": [
    {
     "data": {
      "text/plain": [
       "Text(0.5, 1, 'Bike Usage by month')"
      ]
     },
     "execution_count": 54,
     "metadata": {},
     "output_type": "execute_result"
    },
    {
     "data": {
      "image/png": "[encoded data removed]",
      "text/plain": [
       "<Figure size 360x360 with 1 Axes>"
      ]
     },
     "metadata": {
      "needs_background": "light"
     },
     "output_type": "display_data"
    }
   ],
   "source": [
    "import calendar\n",
    "base_color = sb.color_palette()[0]\n",
    "df_goBike_temp = df_goBike_clean.copy()\n",
    "\n",
    "# convert the months numbers to months names\n",
    "df_goBike_temp['Start_Month'] = df_goBike_temp['Start_Month'].apply(lambda x: calendar.month_abbr[x])\n",
    "\n",
    "#plot it\n",
    "months = ['Jan','Feb','Mar','Apr','May','Jun','Jul','Aug','Sep','Oct','Nov','Dec']\n",
    "g = sns.catplot(data = df_goBike_temp,x='Start_Month',kind='count',color=base_color , order=months)\n",
    "g.set_axis_labels('Month','Total number of bike trips')\n",
    "g.fig.suptitle('Bike Usage by month', y=1,fontsize=15, fontweight='bold')"
   ]
  },
  {
   "cell_type": "markdown",
   "metadata": {},
   "source": [
    "<b>The second month is very heigh among the others. We think that because we have only the first two months of 2019. We need to filter our data by year and then plot it again</b>"
   ]
  },
  {
   "cell_type": "code",
   "execution_count": 56,
   "metadata": {},
   "outputs": [
    {
     "name": "stderr",
     "output_type": "stream",
     "text": [
      "<ipython-input-56-ccd644f25184>:5: SettingWithCopyWarning: \n",
      "A value is trying to be set on a copy of a slice from a DataFrame.\n",
      "Try using .loc[row_indexer,col_indexer] = value instead\n",
      "\n",
      "See the caveats in the documentation: https://pandas.pydata.org/pandas-docs/stable/user_guide/indexing.html#returning-a-view-versus-a-copy\n",
      "  df_goBike_2018_2017['Start_Month'] = df_goBike_2018_2017['Start_Month'].apply(lambda x: calendar.month_abbr[x])\n"
     ]
    },
    {
     "data": {
      "text/plain": [
       "Text(0.5, 1, 'Bike Usage by month')"
      ]
     },
     "execution_count": 56,
     "metadata": {},
     "output_type": "execute_result"
    },
    {
     "data": {
      "image/png": "[encoded data removed]",
      "text/plain": [
       "<Figure size 360x360 with 1 Axes>"
      ]
     },
     "metadata": {
      "needs_background": "light"
     },
     "output_type": "display_data"
    }
   ],
   "source": [
    "# filter by year \n",
    "df_goBike_2018_2017 = df_goBike_clean.query('Start_Year != 2019')\n",
    "\n",
    "# convert the months numbers to months names\n",
    "df_goBike_2018_2017['Start_Month'] = df_goBike_2018_2017['Start_Month'].apply(lambda x: calendar.month_abbr[x])\n",
    "\n",
    "#plot it\n",
    "months = ['Jan','Feb','Mar','Apr','May','Jun','Jul','Aug','Sep','Oct','Nov','Dec']\n",
    "g = sns.catplot(data = df_goBike_2018_2017,x='Start_Month',kind='count',color=base_color, order = months)\n",
    "g.set_axis_labels('Month','Total number of bike trips')\n",
    "g.fig.suptitle('Bike Usage by month', y=1,fontsize=15, fontweight='bold')\n",
    "\n"
   ]
  },
  {
   "cell_type": "markdown",
   "metadata": {},
   "source": [
    "<b>From the figure, the usage of FordGobike is very high in the summer. Then it cut off rather decreasing from September to October. It decreases slightly until January, where it starts increasing gradually until Mary where the demand breaks the increasing rate.</b>"
   ]
  },
  {
   "cell_type": "markdown",
   "metadata": {},
   "source": [
    "<b>Let's plot the two plots next to each other.</b>"
   ]
  },
  {
   "cell_type": "code",
   "execution_count": 57,
   "metadata": {},
   "outputs": [
    {
     "data": {
      "text/plain": [
       "Text(0.5, 1.0, 'The riding in 2017-2018')"
      ]
     },
     "execution_count": 57,
     "metadata": {},
     "output_type": "execute_result"
    },
    {
     "data": {
      "image/png": "[encoded data removed]",
      "text/plain": [
       "<Figure size 1440x360 with 2 Axes>"
      ]
     },
     "metadata": {
      "needs_background": "light"
     },
     "output_type": "display_data"
    }
   ],
   "source": [
    "plt.figure(figsize = [20, 5])\n",
    "# make a copy\n",
    "df_goBike_clean_copy = df_goBike_clean.copy()\n",
    "\n",
    "# convert the months numbers to months names\n",
    "df_goBike_clean_copy['Start_Month'] = df_goBike_clean_copy['Start_Month'].apply(lambda x: calendar.month_abbr[x])\n",
    "\n",
    "# filter by year\n",
    "df_goBike_2018_2017 = df_goBike_clean_copy.query('Start_Year !=2019')\n",
    "\n",
    "\n",
    "months = ['Jan','Feb','Mar','Apr','May','Jun','Jul','Aug','Sep','Oct','Nov','Dec']\n",
    "\n",
    "plt.subplot(1, 2, 1) \n",
    "sb.countplot(data=df_goBike_clean_copy, x='Start_Month', color=base_color);\n",
    "plt.xlabel(\"Months\")\n",
    "plt.ylabel(\"Total number of bike trips\")\n",
    "plt.title(\"The riding in 2017-2018-2019\")\n",
    "\n",
    "plt.subplot(1, 2, 2) \n",
    "sb.countplot(data=df_goBike_2018_2017, x='Start_Month', color=base_color);\n",
    "plt.xlabel(\"Months\")\n",
    "plt.ylabel(\"Total number of bike trips\")\n",
    "plt.title(\"The riding in 2017-2018\")"
   ]
  },
  {
   "cell_type": "markdown",
   "metadata": {},
   "source": [
    "<b>From figure, the usage of the bikes is unnormal high in February 2019 compared to the same month in 2017 and 2108. There is something happening out of our data that needs to be analyzed beyond our investigation.</b> "
   ]
  },
  {
   "cell_type": "markdown",
   "metadata": {},
   "source": [
    "<b>Let's see the difference.</b>"
   ]
  },
  {
   "cell_type": "code",
   "execution_count": 58,
   "metadata": {},
   "outputs": [
    {
     "name": "stdout",
     "output_type": "stream",
     "text": [
      "174880 98498 0\n"
     ]
    }
   ],
   "source": [
    "df_2019 = df_goBike_clean.query('Start_Year == 2019 & Start_Month == 2')\n",
    "df_2018 = df_goBike_clean.query('Start_Year == 2018 & Start_Month == 2')\n",
    "df_2017 = df_goBike_clean.query('Start_Year == 2017 & Start_Month == 2')\n",
    "print(df_2019.shape[0], df_2018.shape[0], df_2017.shape[0])"
   ]
  },
  {
   "cell_type": "markdown",
   "metadata": {},
   "source": [
    "<b> The differene is big between Feb in 2018 and 2019. Our data starts from Jun 2017 until Feb 2019</b>"
   ]
  },
  {
   "cell_type": "markdown",
   "metadata": {},
   "source": [
    "### Lets See the usage of FordGoBike by Weekdays."
   ]
  },
  {
   "cell_type": "code",
   "execution_count": 59,
   "metadata": {},
   "outputs": [
    {
     "data": {
      "text/plain": [
       "Text(0.5, 1, 'Bike Usage by weekdays')"
      ]
     },
     "execution_count": 59,
     "metadata": {},
     "output_type": "execute_result"
    },
    {
     "data": {
      "image/png": "[encoded data removed]",
      "text/plain": [
       "<Figure size 360x360 with 1 Axes>"
      ]
     },
     "metadata": {
      "needs_background": "light"
     },
     "output_type": "display_data"
    }
   ],
   "source": [
    "df_goBike_temp = df_goBike_clean.copy()\n",
    "\n",
    "# convert the months numbers to months names\n",
    "df_goBike_temp['Start_Day_of_Week'] = df_goBike_temp['Start_Day_of_Week'].apply(lambda x: calendar.day_abbr[x])\n",
    "#order=weekdays\n",
    "#plot it\n",
    "weekdays = ['Mon','Tue','Wed','Thu','Fri','Sat','Sun']\n",
    "g = sns.catplot(data = df_goBike_temp,x='Start_Day_of_Week',kind='count',color=base_color, order = weekdays)\n",
    "g.set_axis_labels('Weekdays','Total number of bike trips')\n",
    "g.fig.suptitle('Bike Usage by weekdays', y=1,fontsize=15, fontweight='bold')"
   ]
  },
  {
   "cell_type": "markdown",
   "metadata": {},
   "source": [
    "<b>From the plot, The FordGoBike usage is mainly used during the weekdays. The most popular days are Tuesday to Thursday, and Friday and Monday are almost the same in the number of rides. The number drops largely about a half on Saturday and Sunday, indicating that mainly use of FordGoBike is on working days.</b>"
   ]
  },
  {
   "cell_type": "markdown",
   "metadata": {},
   "source": [
    "### What the usage of FordGoBike by hour?"
   ]
  },
  {
   "cell_type": "code",
   "execution_count": 60,
   "metadata": {},
   "outputs": [
    {
     "data": {
      "text/plain": [
       "<seaborn.axisgrid.FacetGrid at 0x1d3af8fcb50>"
      ]
     },
     "execution_count": 60,
     "metadata": {},
     "output_type": "execute_result"
    },
    {
     "data": {
      "text/plain": [
       "<Figure size 1440x360 with 0 Axes>"
      ]
     },
     "metadata": {},
     "output_type": "display_data"
    },
    {
     "data": {
      "image/png": "[encoded data removed]",
      "text/plain": [
       "<Figure size 360x360 with 1 Axes>"
      ]
     },
     "metadata": {
      "needs_background": "light"
     },
     "output_type": "display_data"
    }
   ],
   "source": [
    "from matplotlib import rcParams\n",
    "# Specify the figure size in inches, for both X, and Y axes\n",
    "rcParams['figure.figsize'] = 20,4\n",
    "plt.figure(figsize = [20, 5])\n",
    "\n",
    "g = sns.catplot(data=df_goBike_clean ,x='Start_Hour',kind='count',color=base_color)\n",
    "g.set_axis_labels('Hours','Total number of bike trips')\n",
    "g.fig.suptitle('Bike usage by hour', y=1,fontsize=15, fontweight='bold')\n",
    "g.set_xticklabels(rotation=45)"
   ]
  },
  {
   "cell_type": "markdown",
   "metadata": {},
   "source": [
    "<b>From figure, we can suggest that the bikes are mainly used for work commutes. The most usages in the morning are during 8 and 9, and in the evening during 17 and 18.</b>"
   ]
  },
  {
   "cell_type": "code",
   "execution_count": 61,
   "metadata": {},
   "outputs": [
    {
     "data": {
      "text/plain": [
       "Index(['level_0', 'index', 'duration_sec', 'start_station_id',\n",
       "       'start_station_name', 'start_station_latitude',\n",
       "       'start_station_longitude', 'end_station_id', 'end_station_name',\n",
       "       'end_station_latitude', 'end_station_longitude', 'bike_id', 'user_type',\n",
       "       'member_birth_year', 'member_gender', 'bike_share_for_all_trip',\n",
       "       'Start_Date', 'Start_Year', 'Start_Month', 'Start_Day_of_Week',\n",
       "       'Start_Time', 'Start_Hour', 'Start_Min', 'End_Date', 'End_Year',\n",
       "       'End_Month', 'End_Day_of_Week', 'End_Hour', 'End_Min', 'member_age',\n",
       "       'duration_min'],\n",
       "      dtype='object')"
      ]
     },
     "execution_count": 61,
     "metadata": {},
     "output_type": "execute_result"
    }
   ],
   "source": [
    "df_goBike_temp.columns"
   ]
  },
  {
   "cell_type": "code",
   "execution_count": 62,
   "metadata": {},
   "outputs": [
    {
     "data": {
      "image/png": "[encoded data removed]",
      "text/plain": [
       "<Figure size 1440x360 with 1 Axes>"
      ]
     },
     "metadata": {
      "needs_background": "light"
     },
     "output_type": "display_data"
    }
   ],
   "source": [
    "plt.figure(figsize = [20, 5])\n",
    "\n",
    "bin_edges = np.arange(0, 60 + 1, 1)\n",
    "ticks = [0, 5, 10, 15, 20, 25, 30,  35, 40, 45, 50, 55, 60]\n",
    "#ticks = np.arange(0, 60 + 1, 1)\n",
    "\n",
    "labels = ['{}'.format(val) for val in ticks]\n",
    "\n",
    "plt.hist(data = df_goBike_clean, x = 'duration_min', bins = bin_edges, rwidth = 0.6);\n",
    "plt.title(\"Trip Duration in Minutes\", y=1.05, fontsize=16, fontweight='bold')\n",
    "plt.xlabel('Duration (Min)')\n",
    "plt.xticks(ticks, labels)\n",
    "plt.ylabel('Total number of bike trips');\n"
   ]
  },
  {
   "cell_type": "markdown",
   "metadata": {},
   "source": [
    "<b>Observation: As seen in the earlier visualization,the average trip is just under 12.5 minutes, with 75% of trips being under 14 minutes. Looking at the histogram, most rides fall in between the 3 - 11 minute range suggesting that people use the system for short commute travel.</b>"
   ]
  },
  {
   "cell_type": "markdown",
   "metadata": {},
   "source": [
    "<b>let's check out the average.</b>"
   ]
  },
  {
   "cell_type": "code",
   "execution_count": 63,
   "metadata": {},
   "outputs": [
    {
     "data": {
      "text/plain": [
       "count    1922031.000\n",
       "mean          13.150\n",
       "std           35.658\n",
       "min            1.017\n",
       "25%            5.800\n",
       "50%            9.067\n",
       "75%           13.950\n",
       "max         1438.017\n",
       "Name: duration_min, dtype: float64"
      ]
     },
     "execution_count": 63,
     "metadata": {},
     "output_type": "execute_result"
    }
   ],
   "source": [
    "(df_goBike_clean['duration_min'].describe()).round(decimals=3)"
   ]
  },
  {
   "cell_type": "markdown",
   "metadata": {},
   "source": [
    "<b>As seen in the above visualization, the average trip is about 13 minutes with 75% of the trips being under 14 minutes. The histogram shows that most rides is between 2 and 14 mintues which indicating that people ride for short commute travel.</b> "
   ]
  },
  {
   "cell_type": "markdown",
   "metadata": {},
   "source": [
    "### The usage of Bike by Age"
   ]
  },
  {
   "cell_type": "code",
   "execution_count": 64,
   "metadata": {},
   "outputs": [
    {
     "data": {
      "text/plain": [
       "count    1922031.000\n",
       "mean          37.532\n",
       "std           10.308\n",
       "min           19.000\n",
       "25%           30.000\n",
       "50%           35.000\n",
       "75%           43.000\n",
       "max          100.000\n",
       "Name: member_age, dtype: float64"
      ]
     },
     "execution_count": 64,
     "metadata": {},
     "output_type": "execute_result"
    }
   ],
   "source": [
    "(df_goBike_clean.member_age.describe()).round(decimals=3)"
   ]
  },
  {
   "cell_type": "code",
   "execution_count": 65,
   "metadata": {},
   "outputs": [
    {
     "data": {
      "image/png": "[encoded data removed]",
      "text/plain": [
       "<Figure size 720x360 with 1 Axes>"
      ]
     },
     "metadata": {
      "needs_background": "light"
     },
     "output_type": "display_data"
    }
   ],
   "source": [
    "plt.figure(figsize = [10, 5])\n",
    "bin_edges = np.arange(0, 100, 5)\n",
    "#ticks = [20, 30, 40,  50, 60, 70, 80, 90, 100]\n",
    "labels = ['{}'.format(val) for val in ticks]\n",
    "plt.hist(data=df_goBike_clean,x='member_age', bins=bin_edges, )\n",
    "plt.title(\"User by Age\", y=1.05, fontsize=17, fontweight='bold')\n",
    "plt.xlabel('Age')\n",
    "plt.ylabel('Total number of bike trips');\n",
    "#plt.xticks(ticks,labels)"
   ]
  },
  {
   "cell_type": "markdown",
   "metadata": {},
   "source": [
    "<b>From the plot, the average age of riders is about 37 and the most of the riders fall between the ages 25 and 45, which is the age of the most workers!</b>"
   ]
  },
  {
   "cell_type": "markdown",
   "metadata": {},
   "source": [
    "## Riders by Gender"
   ]
  },
  {
   "cell_type": "code",
   "execution_count": 66,
   "metadata": {},
   "outputs": [
    {
     "data": {
      "text/plain": [
       "count          3.00\n",
       "mean      640677.00\n",
       "std       714435.43\n",
       "min        29619.00\n",
       "25%       247926.00\n",
       "50%       466233.00\n",
       "75%       946206.00\n",
       "max      1426179.00\n",
       "Name: member_gender, dtype: float64"
      ]
     },
     "execution_count": 66,
     "metadata": {},
     "output_type": "execute_result"
    }
   ],
   "source": [
    "(df_goBike_clean['member_gender'].value_counts().describe()).round(decimals=2)"
   ]
  },
  {
   "cell_type": "code",
   "execution_count": 67,
   "metadata": {},
   "outputs": [
    {
     "data": {
      "text/plain": [
       "<matplotlib.legend.Legend at 0x1d304841730>"
      ]
     },
     "execution_count": 67,
     "metadata": {},
     "output_type": "execute_result"
    },
    {
     "data": {
      "image/png": "[encoded data removed]",
      "text/plain": [
       "<Figure size 1440x288 with 1 Axes>"
      ]
     },
     "metadata": {},
     "output_type": "display_data"
    }
   ],
   "source": [
    "# Use the same pokemon dataset\n",
    "sorted_counts = df_goBike_clean['member_gender'].value_counts()\n",
    "\n",
    "plt.pie(sorted_counts, labels = sorted_counts.index, startangle = 90, counterclock = False);\n",
    "\n",
    "# We have the used option `Square`. \n",
    "# Though, you can use either one specified here - https://matplotlib.org/api/_as_gen/matplotlib.pyplot.axis.html?highlight=pyplot%20axis#matplotlib-pyplot-axis\n",
    "plt.axis('square')\n",
    "plt.title('User by Gender', y=1.05, fontsize=16, fontweight='bold');\n",
    "plt.legend()"
   ]
  },
  {
   "cell_type": "markdown",
   "metadata": {},
   "source": [
    "<b> Form the pie chart, we see that about 72% of riders are male and 23% for female. The remaining is the other genders.</b>"
   ]
  },
  {
   "cell_type": "markdown",
   "metadata": {},
   "source": [
    "### which location has the most trip?"
   ]
  },
  {
   "cell_type": "markdown",
   "metadata": {},
   "source": [
    "<b>First, we need to know how many stations we have? </b>"
   ]
  },
  {
   "cell_type": "code",
   "execution_count": 68,
   "metadata": {},
   "outputs": [
    {
     "data": {
      "text/plain": [
       "363"
      ]
     },
     "execution_count": 68,
     "metadata": {},
     "output_type": "execute_result"
    }
   ],
   "source": [
    "len(df_goBike_clean['start_station_name'].value_counts())"
   ]
  },
  {
   "cell_type": "markdown",
   "metadata": {},
   "source": [
    "<b> As it is hard to explore all 363 stations, We choose the top 10 ones.</b>"
   ]
  },
  {
   "cell_type": "code",
   "execution_count": 71,
   "metadata": {},
   "outputs": [
    {
     "data": {
      "text/plain": [
       "San Francisco Caltrain Station 2  (Townsend St at 4th St)    40802\n",
       "San Francisco Caltrain (Townsend St at 4th St)               40190\n",
       "San Francisco Ferry Building (Harry Bridges Plaza)           39320\n",
       "Market St at 10th St                                         38614\n",
       "Berry St at 4th St                                           37851\n",
       "Montgomery St BART Station (Market St at 2nd St)             35671\n",
       "The Embarcadero at Sansome St                                33136\n",
       "Powell St BART Station (Market St at 4th St)                 31460\n",
       "Howard St at Beale St                                        31408\n",
       "Steuart St at Market St                                      30781\n",
       "Name: start_station_name, dtype: int64"
      ]
     },
     "execution_count": 71,
     "metadata": {},
     "output_type": "execute_result"
    }
   ],
   "source": [
    "df_goBike_clean['start_station_name'].value_counts().head(10)"
   ]
  },
  {
   "cell_type": "markdown",
   "metadata": {},
   "source": [
    "<b> subset the dataset by keeping only top 10 locations with high traffics</b>"
   ]
  },
  {
   "cell_type": "code",
   "execution_count": 78,
   "metadata": {},
   "outputs": [],
   "source": [
    "# Subset the dataset by keeping only top 10 locations \n",
    "locs = ['San Francisco Caltrain Station 2  (Townsend St at 4th St)',\n",
    "        'San Francisco Caltrain (Townsend St at 4th St)',\n",
    "        'San Francisco Ferry Building (Harry Bridges Plaza)',\n",
    "        'Market St at 10th St',\n",
    "        'Berry St at 4th St',\n",
    "        'Montgomery St BART Station (Market St at 2nd St)',\n",
    "        'The Embarcadero at Sansome St',\n",
    "        'Powell St BART Station (Market St at 4th St)',\n",
    "        'Howard St at Beale St',\n",
    "        'Steuart St at Market St',]\n",
    "        \n",
    "df_locations_Top10 = df_goBike_clean.loc[df_goBike_clean['start_station_name'].isin(locs)]"
   ]
  },
  {
   "cell_type": "code",
   "execution_count": 79,
   "metadata": {},
   "outputs": [],
   "source": [
    "# get index for ordreing the bins in the plot\n",
    "stations = df_locations_Top10['start_station_name'].value_counts() \n",
    "order = stations.index"
   ]
  },
  {
   "cell_type": "code",
   "execution_count": 80,
   "metadata": {},
   "outputs": [
    {
     "data": {
      "text/plain": [
       "10"
      ]
     },
     "execution_count": 80,
     "metadata": {},
     "output_type": "execute_result"
    }
   ],
   "source": [
    "len(stations.index)"
   ]
  },
  {
   "cell_type": "code",
   "execution_count": 81,
   "metadata": {},
   "outputs": [
    {
     "data": {
      "text/plain": [
       "(359233, 31)"
      ]
     },
     "execution_count": 81,
     "metadata": {},
     "output_type": "execute_result"
    }
   ],
   "source": [
    "df_locations_Top10.shape"
   ]
  },
  {
   "cell_type": "code",
   "execution_count": 82,
   "metadata": {},
   "outputs": [
    {
     "name": "stdout",
     "output_type": "stream",
     "text": [
      "40802\n",
      "40190\n",
      "39320\n",
      "38614\n",
      "37851\n",
      "35671\n",
      "33136\n",
      "31460\n",
      "31408\n",
      "30781\n"
     ]
    }
   ],
   "source": [
    "for i in locs:\n",
    "    print(df_goBike_clean[df_goBike_clean['start_station_name'] == i].count()[0])\n",
    "                          "
   ]
  },
  {
   "cell_type": "code",
   "execution_count": 83,
   "metadata": {},
   "outputs": [
    {
     "data": {
      "text/plain": [
       "40802"
      ]
     },
     "execution_count": 83,
     "metadata": {},
     "output_type": "execute_result"
    }
   ],
   "source": [
    "df_goBike_clean[df_goBike_clean['start_station_name'] == \"San Francisco Caltrain Station 2  (Townsend St at 4th St)\"].count()[0]"
   ]
  },
  {
   "cell_type": "code",
   "execution_count": 84,
   "metadata": {},
   "outputs": [
    {
     "data": {
      "image/png": "[encoded data removed]",
      "text/plain": [
       "<Figure size 864x360 with 1 Axes>"
      ]
     },
     "metadata": {
      "needs_background": "light"
     },
     "output_type": "display_data"
    }
   ],
   "source": [
    "plt.figure(figsize = [12, 5])\n",
    "base_color = sb.color_palette()[0]\n",
    "sb.countplot(data=df_locations_Top10, y='start_station_name', color=base_color, order = order)\n",
    "plt.xlabel('Count')\n",
    "plt.ylabel('Start Station Name')\n",
    "plt.title('Top 10 Stations with the most trips in SF');\n",
    "\n",
    "index = 0\n",
    "for i in locs:\n",
    "    #pct_string = '{:0.1f}'.format(df_goBike_clean[df_goBike_clean['start_station_name'] == i].count()[0])\n",
    "    c = df_goBike_clean[df_goBike_clean['start_station_name'] == i].count()[0]\n",
    "    plt.text(c+1, index, index + 1, va='center')\n",
    "    index = index + 1\n",
    "    "
   ]
  },
  {
   "cell_type": "markdown",
   "metadata": {},
   "source": [
    "<b>From the visualization, we can see that the trip differences between the top 4 are almost similar, then the following three stations. The stations ranked eight and ninth have nearly the same trips</b>    "
   ]
  },
  {
   "cell_type": "markdown",
   "metadata": {},
   "source": [
    "<a id='b_exploration'></a>\n",
    "## Bivariate Exploration"
   ]
  },
  {
   "cell_type": "markdown",
   "metadata": {},
   "source": [
    "### What is the user type proportion for the FordGoBike system?"
   ]
  },
  {
   "cell_type": "code",
   "execution_count": 85,
   "metadata": {},
   "outputs": [],
   "source": [
    "# calculate the customer and subscriber proportions\n",
    "customer = df_goBike_clean[df_goBike_clean.user_type == \"Customer\"]['bike_id'].count()\n",
    "subscriber = df_goBike_clean[df_goBike_clean.user_type ==  \"Subscriber\"]['bike_id'].count()\n",
    "\n",
    "\n",
    "customer_prop = customer / df_goBike_clean['bike_id'].count()\n",
    "subscriber_prop = subscriber / df_goBike_clean['bike_id'].count()"
   ]
  },
  {
   "cell_type": "code",
   "execution_count": 86,
   "metadata": {},
   "outputs": [
    {
     "data": {
      "text/plain": [
       "0.11356112362391657"
      ]
     },
     "execution_count": 86,
     "metadata": {},
     "output_type": "execute_result"
    }
   ],
   "source": [
    "customer_prop"
   ]
  },
  {
   "cell_type": "code",
   "execution_count": 87,
   "metadata": {},
   "outputs": [
    {
     "data": {
      "text/plain": [
       "0.8864388763760834"
      ]
     },
     "execution_count": 87,
     "metadata": {},
     "output_type": "execute_result"
    }
   ],
   "source": [
    "subscriber_prop"
   ]
  },
  {
   "cell_type": "code",
   "execution_count": 88,
   "metadata": {},
   "outputs": [
    {
     "data": {
      "image/png": "[encoded data removed]",
      "text/plain": [
       "<Figure size 720x360 with 1 Axes>"
      ]
     },
     "metadata": {},
     "output_type": "display_data"
    }
   ],
   "source": [
    "plt.figure(figsize=[10,5])\n",
    "\n",
    "labels = ['Customer','Subscriber']\n",
    "sizes = [customer_prop,subscriber_prop]\n",
    "explode = (0,0.4)\n",
    "colors = ['#ffcc99','#66b3ff']\n",
    "\n",
    "plt.pie(sizes,explode=explode,labels=labels,colors=colors, autopct='%1.1f%%', shadow=True,startangle=90)\n",
    "plt.axis('equal')\n",
    "plt.suptitle('Customers vs. Subscribers', y=1.05, fontsize=16, fontweight='bold');\n",
    "plt.tight_layout()"
   ]
  },
  {
   "cell_type": "code",
   "execution_count": 89,
   "metadata": {},
   "outputs": [
    {
     "data": {
      "image/png": "[encoded data removed]",
      "text/plain": [
       "<Figure size 720x504 with 1 Axes>"
      ]
     },
     "metadata": {
      "needs_background": "light"
     },
     "output_type": "display_data"
    }
   ],
   "source": [
    "plt.figure(figsize=[10,7])\n",
    "order = df_goBike_clean.user_type.value_counts().index\n",
    "v = sb.countplot(data = df_goBike_clean, x = 'user_type', order = order )\n",
    "v.set_xlabel('User Type')\n",
    "v.set_ylabel('Total number of bike trips')\n",
    "plt.suptitle('Customers vs. Subscribers', fontsize=16, fontweight='bold');"
   ]
  },
  {
   "cell_type": "markdown",
   "metadata": {},
   "source": [
    "<b> Subscribers represent 88% in terms of system users. The rest is the occasional riders.</b> "
   ]
  },
  {
   "cell_type": "markdown",
   "metadata": {},
   "source": [
    "### what is the monthly usage of bikes per user type?"
   ]
  },
  {
   "cell_type": "code",
   "execution_count": 90,
   "metadata": {},
   "outputs": [
    {
     "data": {
      "image/png": "[encoded data removed]",
      "text/plain": [
       "<Figure size 720x360 with 2 Axes>"
      ]
     },
     "metadata": {
      "needs_background": "light"
     },
     "output_type": "display_data"
    }
   ],
   "source": [
    "df_goBike_temp = df_goBike_clean.copy()\n",
    "df_goBike_temp['Start_Month'] = df_goBike_temp['Start_Month'].apply(lambda x: calendar.month_abbr[x])\n",
    "months = ['Jan','Feb','Mar','Apr','May','Jun','Jul','Aug','Sep','Oct','Nov','Dec']\n",
    "v = sns.catplot(data=df_goBike_temp, x='Start_Month',col='user_type',\n",
    "                color=base_color, sharey=True, kind='count', order=months)\n",
    "v.set_axis_labels('Month','Total number of bike trips')\n",
    "v.set_titles(\"{col_name}\")\n",
    "plt.suptitle('Customers vs. Subscribers', y=1.1, fontsize=16, fontweight='bold');\n",
    "v.set_xticklabels(rotation=75);"
   ]
  },
  {
   "cell_type": "code",
   "execution_count": 91,
   "metadata": {},
   "outputs": [],
   "source": [
    "df_goBike_clean_copy = df_goBike_clean.copy()\n",
    "\n",
    "# convert the months numbers to months names\n",
    "df_goBike_clean_copy['Start_Month'] = df_goBike_clean_copy['Start_Month'].apply(lambda x: calendar.month_abbr[x])\n",
    "\n",
    "# filter by year\n",
    "df_goBike_2018_2017 = df_goBike_clean_copy.query('Start_Year == 2017')\n",
    "\n",
    "\n",
    "months = ['Jan','Feb','Mar','Apr','May','Jun','Jul','Aug','Sep','Oct','Nov','Dec']"
   ]
  },
  {
   "cell_type": "markdown",
   "metadata": {},
   "source": [
    "### what is the weekley usage of bikes per user type?"
   ]
  },
  {
   "cell_type": "code",
   "execution_count": 92,
   "metadata": {},
   "outputs": [
    {
     "data": {
      "image/png": "[encoded data removed]",
      "text/plain": [
       "<Figure size 720x360 with 2 Axes>"
      ]
     },
     "metadata": {
      "needs_background": "light"
     },
     "output_type": "display_data"
    }
   ],
   "source": [
    "df_goBike_temp = df_goBike_clean.copy()\n",
    "df_goBike_temp['Start_Day_of_Week'] = df_goBike_temp['Start_Day_of_Week'].apply(lambda x: calendar.day_abbr[x])\n",
    "weekdays = ['Mon','Tue','Wed','Thu','Fri','Sat','Sun']\n",
    "v = sns.catplot(data=df_goBike_temp, x='Start_Day_of_Week',col='user_type',\n",
    "                color=base_color, sharey=False, kind='count', order=weekdays)\n",
    "v.set_axis_labels('Weekdays','Total number of bike trips')\n",
    "v.set_titles(\"{col_name}\")\n",
    "plt.suptitle('Customers vs. Subscribers', y=1.1, fontsize=16, fontweight='bold');\n",
    "v.set_xticklabels(rotation=75);"
   ]
  },
  {
   "cell_type": "markdown",
   "metadata": {},
   "source": [
    "<b> In general, customers have clearly a low usage of the bikes in terms of user type. However, customers seem to be more active on the weekend compared to subscribers.</b>"
   ]
  },
  {
   "cell_type": "code",
   "execution_count": 93,
   "metadata": {},
   "outputs": [
    {
     "data": {
      "image/png": "[encoded data removed]",
      "text/plain": [
       "<Figure size 720x504 with 1 Axes>"
      ]
     },
     "metadata": {
      "needs_background": "light"
     },
     "output_type": "display_data"
    }
   ],
   "source": [
    "plt.figure(figsize=(10, 7))\n",
    "\n",
    "df_user_week = df_goBike_clean.groupby(['Start_Day_of_Week', 'user_type']).size().reset_index()\n",
    "df_user_week['Start_Day_of_Week'] = df_user_week['Start_Day_of_Week'].apply(lambda x: calendar.day_abbr[x])\n",
    "weekdays = ['Mon','Tue','Wed','Thu','Fri','Sat','Sun']\n",
    "\n",
    "\n",
    "sb.pointplot(data=df_user_week , x='Start_Day_of_Week',y=0, hue='user_type', order = weekdays)\n",
    "plt.xlabel('Weekday')\n",
    "plt.ylabel('Total number of bike trips');"
   ]
  },
  {
   "cell_type": "markdown",
   "metadata": {},
   "source": [
    "<b> To understand the relationship more, we use different plot.</b>`"
   ]
  },
  {
   "cell_type": "markdown",
   "metadata": {},
   "source": [
    "### How about trip duration per user type?"
   ]
  },
  {
   "cell_type": "code",
   "execution_count": 94,
   "metadata": {},
   "outputs": [
    {
     "data": {
      "text/plain": [
       "Text(0, 0.5, 'Duration in Minute')"
      ]
     },
     "execution_count": 94,
     "metadata": {},
     "output_type": "execute_result"
    },
    {
     "data": {
      "image/png": "[encoded data removed]",
      "text/plain": [
       "<Figure size 1152x360 with 2 Axes>"
      ]
     },
     "metadata": {
      "needs_background": "light"
     },
     "output_type": "display_data"
    }
   ],
   "source": [
    "plt.figure(figsize = [16, 5])\n",
    "base_color = sb.color_palette()[0]\n",
    "\n",
    "df_temp= df_goBike_clean.query('duration_min < 60')\n",
    "\n",
    "# LEFT plot: violin plot\n",
    "plt.subplot(1, 2, 1)\n",
    "#Let's return the axes object\n",
    "ax1 = sb.violinplot(data=df_temp, x='user_type', y='duration_min', color=base_color, innner='quartile')\n",
    "#plt.xticks(rotation=15);\n",
    "plt.xlabel(\"User Type\")\n",
    "plt.ylabel(\"Duration in Minute\")\n",
    "# RIGHT plot: box plot\n",
    "plt.subplot(1, 2, 2)\n",
    "sb.boxplot(data=df_temp, x='user_type', y='duration_min', color=base_color)\n",
    "plt.xlabel(\"User Type\")\n",
    "plt.ylabel(\"Duration in Minute\")\n",
    "#plt.xticks(rotation=15);\n",
    "#plt.ylim(ax1.get_ylim()) # set y-axis limits to be same as left plot"
   ]
  },
  {
   "cell_type": "markdown",
   "metadata": {},
   "source": [
    "<b> Generally, we can say that trip durations for customers are longer than subscribers. From two figures, trip durations for customers and subscriber are 8-22 minutes and 7-14 minutes Sequentially.</b>"
   ]
  },
  {
   "cell_type": "markdown",
   "metadata": {},
   "source": [
    "###  Riding Count based on  User Typer and Member Gender on top 10 stations"
   ]
  },
  {
   "cell_type": "code",
   "execution_count": 95,
   "metadata": {},
   "outputs": [
    {
     "data": {
      "image/png": "[encoded data removed]",
      "text/plain": [
       "<Figure size 720x720 with 2 Axes>"
      ]
     },
     "metadata": {
      "needs_background": "light"
     },
     "output_type": "display_data"
    }
   ],
   "source": [
    "# 3. Categorical variables by plotting countplot: top 8 stations by users' attributes (user_type, member's gender)\n",
    "fig = plt.figure(figsize=(10,10))\n",
    "plt.subplots_adjust(top=0.92)\n",
    "users = ['user_type','member_gender']\n",
    "fig.suptitle('Trips Count for User Typer and Member Gender', fontsize=14)\n",
    "for i in range(1, 3):\n",
    "    ax = fig.add_subplot(2, 1, i)\n",
    "    sb.countplot(data=df_locations_Top10, y='start_station_name', hue=users[i-1])\n",
    "    plt.legend(loc='center left', bbox_to_anchor=(1,0.5))\n",
    "    plt.ylabel('Start Station Name')\n",
    "    plt.xlabel('Count');"
   ]
  },
  {
   "cell_type": "markdown",
   "metadata": {},
   "source": [
    "<b> In general, male subscribers are more by far female customers in all stations. However, the amount of the same gender shows variety among stations.</b>"
   ]
  },
  {
   "cell_type": "markdown",
   "metadata": {},
   "source": [
    "<a id='m_exploration'></a>\n",
    "## Multivariate Exploration"
   ]
  },
  {
   "cell_type": "markdown",
   "metadata": {},
   "source": [
    "### The number of gender per customers and subscribers"
   ]
  },
  {
   "cell_type": "code",
   "execution_count": 96,
   "metadata": {},
   "outputs": [
    {
     "data": {
      "image/png": "[encoded data removed]",
      "text/plain": [
       "<Figure size 720x504 with 1 Axes>"
      ]
     },
     "metadata": {
      "needs_background": "light"
     },
     "output_type": "display_data"
    }
   ],
   "source": [
    "from matplotlib.ticker import FuncFormatter\n",
    "plt.figure(figsize = [10, 7])\n",
    "\n",
    "order = df_goBike_clean.user_type.value_counts().index\n",
    "v= sb.countplot(data = df_goBike_clean, x = 'user_type', hue = 'member_gender', order = order)\n",
    "#v.set_xlabel(\"User Type\")\n",
    "#v.set_ylabel('Total number of bike trips')\n",
    "plt.suptitle('Customers vs. Subscribers', fontsize=16, fontweight='bold');\n",
    "\n",
    "f = lambda x, pos: f'{x/10**3:,.0f}K'\n",
    "v.yaxis.set_major_formatter(FuncFormatter(f))\n"
   ]
  },
  {
   "cell_type": "markdown",
   "metadata": {},
   "source": [
    "<b> In general, males are briding more than females whether they are customers or subscribers. Female subscribers are about 33% of male subscribers, whereas Female customers are about 50%of male subscribers.</b>"
   ]
  },
  {
   "cell_type": "markdown",
   "metadata": {},
   "source": [
    "### Monthly Usage as per gender"
   ]
  },
  {
   "cell_type": "code",
   "execution_count": 97,
   "metadata": {},
   "outputs": [
    {
     "data": {
      "image/png": "[encoded data removed]",
      "text/plain": [
       "<Figure size 810.375x360 with 2 Axes>"
      ]
     },
     "metadata": {
      "needs_background": "light"
     },
     "output_type": "display_data"
    }
   ],
   "source": [
    "df_goBike_temp = df_goBike_clean.copy()\n",
    "df_goBike_temp['Start_Month'] = df_goBike_temp['Start_Month'].apply(lambda x: calendar.month_abbr[x])\n",
    "months = ['Jan','Feb','Mar','Apr','May','Jun','Jul','Aug','Sep','Oct','Nov','Dec']\n",
    "\n",
    "v = sns.catplot(data = df_goBike_temp, x='Start_Month', \n",
    "                col='user_type', hue='member_gender',sharey=False,kind='count', order=months)\n",
    "\n",
    "v.set_axis_labels('Month','Total number of bike trips')\n",
    "v.set_titles(\"{col_name}\")\n",
    "v._legend.set_title('Gender')\n",
    "plt.suptitle('Monthly Usage as per gender - Customers vs. Subscribers', y=1.05, fontsize=16, fontweight='bold');\n",
    "v.set_xticklabels(rotation=75);"
   ]
  },
  {
   "cell_type": "markdown",
   "metadata": {},
   "source": [
    "<b>Males are the most riders. The difference between males and females is nearly 50%  in customer terms and about 60% in subscribers. In January and March, the female customer is making the gab smaller to male customers. In the summer season, demand is increasing at about double the rate in other months.</b>"
   ]
  },
  {
   "cell_type": "code",
   "execution_count": 98,
   "metadata": {},
   "outputs": [
    {
     "data": {
      "image/png": "[encoded data removed]",
      "text/plain": [
       "<Figure size 810.375x360 with 2 Axes>"
      ]
     },
     "metadata": {
      "needs_background": "light"
     },
     "output_type": "display_data"
    }
   ],
   "source": [
    "df_goBike_temp = df_goBike_clean.copy()\n",
    "df_goBike_temp['Start_Day_of_Week'] = df_goBike_temp['Start_Day_of_Week'].apply(lambda x: calendar.day_abbr[x])\n",
    "weekdays = ['Mon','Tue','Wed','Thu','Fri','Sat','Sun']\n",
    "\n",
    "v = sns.catplot(data=df_goBike_temp, x='Start_Day_of_Week', \n",
    "                col='user_type', hue='member_gender', sharey=False, kind='count', order=weekdays)\n",
    "\n",
    "v.set_axis_labels('Weekdays','Total number of bike trips')\n",
    "v.set_titles(\"{col_name}\")\n",
    "plt.suptitle('Weekly Usage as per gender - Customers vs. Subscribers', y=1.1, fontsize=16, fontweight='bold');\n",
    "v.set_xticklabels(rotation=75);"
   ]
  },
  {
   "cell_type": "markdown",
   "metadata": {},
   "source": [
    "<b>As the previous visualizations, the trends of males and females are similar. For customers, the demand increases on weekends, while it decreases for subscribers.</b>"
   ]
  },
  {
   "cell_type": "markdown",
   "metadata": {},
   "source": [
    "### Top 10 trip stations by time (Morning, Afternoon, Night)"
   ]
  },
  {
   "cell_type": "code",
   "execution_count": 99,
   "metadata": {},
   "outputs": [
    {
     "name": "stderr",
     "output_type": "stream",
     "text": [
      "<ipython-input-99-ee13276aa44a>:5: SettingWithCopyWarning: \n",
      "A value is trying to be set on a copy of a slice from a DataFrame\n",
      "\n",
      "See the caveats in the documentation: https://pandas.pydata.org/pandas-docs/stable/user_guide/indexing.html#returning-a-view-versus-a-copy\n",
      "  df_temp['Day_parts'][(df_temp['Start_Hour'] >= 12) & (df_temp['Start_Hour'] <= 17)] = 'afternoon'\n",
      "<ipython-input-99-ee13276aa44a>:6: SettingWithCopyWarning: \n",
      "A value is trying to be set on a copy of a slice from a DataFrame\n",
      "\n",
      "See the caveats in the documentation: https://pandas.pydata.org/pandas-docs/stable/user_guide/indexing.html#returning-a-view-versus-a-copy\n",
      "  df_temp['Day_parts'][(df_temp['Start_Hour'] >= 18) & (df_temp['Start_Hour'] <= 23)] = 'night'\n"
     ]
    }
   ],
   "source": [
    "# we need to add column containing the day parts.\n",
    "df_temp= df_locations_Top10.copy()\n",
    "#df_temp['start_hour'] = df['start_time'].apply(lambda time: time.hour)\n",
    "df_temp['Day_parts'] = 'morning'\n",
    "df_temp['Day_parts'][(df_temp['Start_Hour'] >= 12) & (df_temp['Start_Hour'] <= 17)] = 'afternoon'\n",
    "df_temp['Day_parts'][(df_temp['Start_Hour'] >= 18) & (df_temp['Start_Hour'] <= 23)] = 'night'\n",
    "\n",
    "\n",
    "\n"
   ]
  },
  {
   "cell_type": "code",
   "execution_count": 100,
   "metadata": {},
   "outputs": [],
   "source": [
    "# seperate user type for plotting\n",
    "df_customers = df_temp.query('user_type == \"Customer\"')\n",
    "df_subscribers = df_temp.query('user_type == \"Subscriber\"')"
   ]
  },
  {
   "cell_type": "code",
   "execution_count": 101,
   "metadata": {},
   "outputs": [
    {
     "data": {
      "text/plain": [
       "array(['San Francisco Caltrain Station 2  (Townsend St at 4th St)',\n",
       "       'San Francisco Caltrain (Townsend St at 4th St)',\n",
       "       'Berry St at 4th St', 'Howard St at Beale St',\n",
       "       'Market St at 10th St',\n",
       "       'San Francisco Ferry Building (Harry Bridges Plaza)',\n",
       "       'The Embarcadero at Sansome St',\n",
       "       'Powell St BART Station (Market St at 4th St)',\n",
       "       'Steuart St at Market St',\n",
       "       'Montgomery St BART Station (Market St at 2nd St)'], dtype=object)"
      ]
     },
     "execution_count": 101,
     "metadata": {},
     "output_type": "execute_result"
    }
   ],
   "source": [
    "df_locations_Top10.start_station_name.unique()"
   ]
  },
  {
   "cell_type": "code",
   "execution_count": 102,
   "metadata": {},
   "outputs": [
    {
     "data": {
      "image/png": "[encoded data removed]",
      "text/plain": [
       "<Figure size 864x720 with 2 Axes>"
      ]
     },
     "metadata": {
      "needs_background": "light"
     },
     "output_type": "display_data"
    }
   ],
   "source": [
    "# 1. 3 categorical variables using countplot: time of day: morning, afternoon, night between customers and subscribers\n",
    "fig = plt.figure(figsize=(12,10))\n",
    "plt.subplots_adjust(top=0.95)\n",
    "\n",
    "fig.add_subplot(2, 1, 1)\n",
    "sb.countplot(data=df_customers, y='start_station_name', hue='Day_parts')\n",
    "plt.legend(loc='center left', bbox_to_anchor=(1,0.5))\n",
    "plt.title('Top 10 Trip Stations by Time of Day in Customers')\n",
    "plt.xlabel('Count')\n",
    "plt.ylabel('Start Station Name')\n",
    "\n",
    "fig.add_subplot(2, 1, 2)\n",
    "sb.countplot(data=df_subscribers, y='start_station_name', hue='Day_parts')\n",
    "plt.legend(loc='center left', bbox_to_anchor=(1,0.5))\n",
    "plt.title('Top 10 Trip Stations by Time of Day in Subscribers')\n",
    "plt.xlabel('Count')\n",
    "plt.ylabel('Start Station Name');"
   ]
  },
  {
   "cell_type": "markdown",
   "metadata": {},
   "source": [
    "<b>Generally, customers seem to ride more in the afternoon and subscribers in the morning. There are only two stations for customers where the morning's bike usage is more than in the afternoon. For subscribers, three only stations have more riding in the afternoon.</b>"
   ]
  },
  {
   "cell_type": "markdown",
   "metadata": {},
   "source": [
    "### Montly Usage by Time of day for Customers and Subscribers"
   ]
  },
  {
   "cell_type": "code",
   "execution_count": 103,
   "metadata": {},
   "outputs": [
    {
     "data": {
      "image/png": "[encoded data removed]",
      "text/plain": [
       "<Figure size 864x720 with 2 Axes>"
      ]
     },
     "metadata": {
      "needs_background": "light"
     },
     "output_type": "display_data"
    }
   ],
   "source": [
    "# 1. 3 categorical variables using countplot: time of day: morning, afternoon, night between customers and subscribers\n",
    "fig = plt.figure(figsize=(12,10))\n",
    "plt.subplots_adjust(top=0.95)\n",
    "\n",
    "fig.add_subplot(2, 1, 1)\n",
    "sb.countplot(data=df_customers, y='Start_Month', hue='Day_parts')\n",
    "plt.legend(loc='center left', bbox_to_anchor=(1,0.5))\n",
    "plt.title('Monthly Usage by Time of Day for Customers')\n",
    "plt.xlabel('Count')\n",
    "plt.ylabel('Month')\n",
    "\n",
    "fig.add_subplot(2, 1, 2)\n",
    "sb.countplot(data=df_subscribers, y='Start_Month', hue='Day_parts')\n",
    "plt.legend(loc='center left', bbox_to_anchor=(1,0.5))\n",
    "plt.title('Monthly Usage by Time of Day for Subscribers')\n",
    "plt.xlabel('Count')\n",
    "plt.ylabel('Month');"
   ]
  },
  {
   "cell_type": "markdown",
   "metadata": {},
   "source": [
    "<b> Data clearly shows that Customers prefer biking in the afternoon, while subscribers prefer biking in the morning.</b>"
   ]
  },
  {
   "cell_type": "code",
   "execution_count": 104,
   "metadata": {},
   "outputs": [
    {
     "data": {
      "text/plain": [
       "['Customer', 'Subscriber']\n",
       "Categories (2, object): ['Customer', 'Subscriber']"
      ]
     },
     "execution_count": 104,
     "metadata": {},
     "output_type": "execute_result"
    }
   ],
   "source": [
    "df_goBike_clean.user_type.unique()"
   ]
  },
  {
   "cell_type": "markdown",
   "metadata": {},
   "source": [
    "### How many FordGoBike users weekly, and what their ages?"
   ]
  },
  {
   "cell_type": "code",
   "execution_count": 105,
   "metadata": {},
   "outputs": [
    {
     "name": "stderr",
     "output_type": "stream",
     "text": [
      "<ipython-input-105-81e59165ae6b>:5: SettingWithCopyWarning: \n",
      "A value is trying to be set on a copy of a slice from a DataFrame\n",
      "\n",
      "See the caveats in the documentation: https://pandas.pydata.org/pandas-docs/stable/user_guide/indexing.html#returning-a-view-versus-a-copy\n",
      "  df_temp['age_interval'][(df_temp['member_age'] > 30) & (df_temp['member_age'] <=40 )] = '31-40'\n",
      "<ipython-input-105-81e59165ae6b>:6: SettingWithCopyWarning: \n",
      "A value is trying to be set on a copy of a slice from a DataFrame\n",
      "\n",
      "See the caveats in the documentation: https://pandas.pydata.org/pandas-docs/stable/user_guide/indexing.html#returning-a-view-versus-a-copy\n",
      "  df_temp['age_interval'][(df_temp['member_age'] > 40) & (df_temp['member_age'] <=50 )] = '41-50'\n",
      "<ipython-input-105-81e59165ae6b>:7: SettingWithCopyWarning: \n",
      "A value is trying to be set on a copy of a slice from a DataFrame\n",
      "\n",
      "See the caveats in the documentation: https://pandas.pydata.org/pandas-docs/stable/user_guide/indexing.html#returning-a-view-versus-a-copy\n",
      "  df_temp['age_interval'][(df_temp['member_age'] > 50) & (df_temp['member_age'] <=60 )] = '51-60'\n",
      "<ipython-input-105-81e59165ae6b>:8: SettingWithCopyWarning: \n",
      "A value is trying to be set on a copy of a slice from a DataFrame\n",
      "\n",
      "See the caveats in the documentation: https://pandas.pydata.org/pandas-docs/stable/user_guide/indexing.html#returning-a-view-versus-a-copy\n",
      "  df_temp['age_interval'][(df_temp['member_age'] > 60) & (df_temp['member_age'] <=70 )] = '61-70'\n",
      "<ipython-input-105-81e59165ae6b>:9: SettingWithCopyWarning: \n",
      "A value is trying to be set on a copy of a slice from a DataFrame\n",
      "\n",
      "See the caveats in the documentation: https://pandas.pydata.org/pandas-docs/stable/user_guide/indexing.html#returning-a-view-versus-a-copy\n",
      "  df_temp['age_interval'][(df_temp['member_age'] > 70) & (df_temp['member_age'] <=80 )] = '71-80'\n",
      "<ipython-input-105-81e59165ae6b>:10: SettingWithCopyWarning: \n",
      "A value is trying to be set on a copy of a slice from a DataFrame\n",
      "\n",
      "See the caveats in the documentation: https://pandas.pydata.org/pandas-docs/stable/user_guide/indexing.html#returning-a-view-versus-a-copy\n",
      "  df_temp['age_interval'][(df_temp['member_age'] > 80) & (df_temp['member_age'] <=90 )] = '81-90'\n",
      "<ipython-input-105-81e59165ae6b>:11: SettingWithCopyWarning: \n",
      "A value is trying to be set on a copy of a slice from a DataFrame\n",
      "\n",
      "See the caveats in the documentation: https://pandas.pydata.org/pandas-docs/stable/user_guide/indexing.html#returning-a-view-versus-a-copy\n",
      "  df_temp['age_interval'][(df_temp['member_age'] > 90) & (df_temp['member_age'] <=100 )] = '90-100'\n"
     ]
    },
    {
     "data": {
      "image/png": "[encoded data removed]",
      "text/plain": [
       "<Figure size 1080x1080 with 4 Axes>"
      ]
     },
     "metadata": {
      "needs_background": "light"
     },
     "output_type": "display_data"
    }
   ],
   "source": [
    "# we need to add column containing the day parts.\n",
    "df_temp= df_locations_Top10.copy()\n",
    "#df_temp['start_hour'] = df['start_time'].apply(lambda time: time.hour)\n",
    "df_temp['age_interval'] = '19-30'\n",
    "df_temp['age_interval'][(df_temp['member_age'] > 30) & (df_temp['member_age'] <=40 )] = '31-40'\n",
    "df_temp['age_interval'][(df_temp['member_age'] > 40) & (df_temp['member_age'] <=50 )] = '41-50'\n",
    "df_temp['age_interval'][(df_temp['member_age'] > 50) & (df_temp['member_age'] <=60 )] = '51-60'\n",
    "df_temp['age_interval'][(df_temp['member_age'] > 60) & (df_temp['member_age'] <=70 )] = '61-70'\n",
    "df_temp['age_interval'][(df_temp['member_age'] > 70) & (df_temp['member_age'] <=80 )] = '71-80'\n",
    "df_temp['age_interval'][(df_temp['member_age'] > 80) & (df_temp['member_age'] <=90 )] = '81-90'\n",
    "df_temp['age_interval'][(df_temp['member_age'] > 90) & (df_temp['member_age'] <=100 )] = '90-100'\n",
    "\n",
    "df_temp['Start_Day_of_Week'] = df_temp['Start_Day_of_Week'].apply(lambda x: calendar.day_abbr[x])\n",
    "df_temp['Start_Day_of_Week'] = pd.Categorical(df_temp['Start_Day_of_Week'], \n",
    "                                               categories=['Mon','Tue','Wed','Thu','Fri','Sat', 'Sun'], \n",
    "                                               ordered=True)\n",
    "\n",
    "plt.figure(figsize=(15,15))\n",
    "plt.suptitle('Weekly Usage for Customers and Subscribers by Age', fontsize=14, fontweight='semibold')\n",
    "\n",
    "# heatmap for subscribers\n",
    "plt.subplot(1, 2, 1)\n",
    "df_subscriber =  df_temp.query('user_type == \"Subscriber\"').groupby([\"age_interval\", \"Start_Day_of_Week\"])[\"bike_id\"].size().reset_index()\n",
    "df_subscriber = df_subscriber.pivot(\"age_interval\", \"Start_Day_of_Week\", \"bike_id\")\n",
    "sb.heatmap(df_subscriber, cmap=\"rocket_r\")\n",
    "\n",
    "plt.title(\"Subscriber\", y=1.015)\n",
    "plt.xlabel('Weekday')\n",
    "plt.ylabel('Age Interval');\n",
    "\n",
    "\n",
    "# heatmap for customers\n",
    "plt.subplot(1, 2, 2)\n",
    "df_customer =  df_temp.query('user_type == \"Customer\"').groupby([\"age_interval\", \"Start_Day_of_Week\"])[\"bike_id\"].size().reset_index()\n",
    "df_customer = df_customer.pivot(\"age_interval\", \"Start_Day_of_Week\", \"bike_id\")\n",
    "sb.heatmap(df_customer, cmap=\"rocket_r\")\n",
    "\n",
    "\n",
    "plt.title(\"Customer\", y=1.015)\n",
    "plt.xlabel('Weekday')\n",
    "plt.ylabel('Age Interval');\n"
   ]
  },
  {
   "cell_type": "markdown",
   "metadata": {},
   "source": [
    "<b>The age interval between 31 and 40 is the highest usage of the bikes during weekdays. Surprisingly, the second-highest age interval is between 41 and 50, whereas the ages between 20 and 30 are the third.</b>"
   ]
  }
 ],
 "metadata": {
  "kernelspec": {
   "display_name": "Python [conda env:root] *",
   "language": "python",
   "name": "conda-root-py"
  },
  "language_info": {
   "codemirror_mode": {
    "name": "ipython",
    "version": 3
   },
   "file_extension": ".py",
   "mimetype": "text/x-python",
   "name": "python",
   "nbconvert_exporter": "python",
   "pygments_lexer": "ipython3",
   "version": "3.8.5"
  }
 },
 "nbformat": 4,
 "nbformat_minor": 4
}
